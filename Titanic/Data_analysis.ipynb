{
 "cells": [
  {
   "cell_type": "markdown",
   "id": "8bb28539-dcff-4aeb-a344-4777b5ba3135",
   "metadata": {},
   "source": [
    "Use the Titanic dataset to build a model that predicts whether a\n",
    "passenger on the Titanic survived or not. This is a classic beginner\n",
    "project with readily available data.\n",
    "\n",
    "    \n",
    "The dataset typically used for this project contains information\n",
    "about individual passengers, such as their age, gender, ticket\n",
    "class, fare, cabin, and whether or not they survived."
   ]
  },
  {
   "cell_type": "code",
   "execution_count": 1,
   "id": "70ba10a1-a8f5-4ec4-b086-81a551aa2d7e",
   "metadata": {},
   "outputs": [],
   "source": [
    "import pandas as pd\n",
    "import numpy as np\n",
    "import seaborn as sns\n",
    "import matplotlib.pyplot as plt"
   ]
  },
  {
   "cell_type": "code",
   "execution_count": 2,
   "id": "070226d2-2915-4122-a715-ccf6f41425fe",
   "metadata": {},
   "outputs": [],
   "source": [
    "df = pd.read_csv(\"Titanic-Dataset.csv\")"
   ]
  },
  {
   "cell_type": "code",
   "execution_count": 8,
   "id": "a58ee514-adb3-4514-af8b-64b97e073720",
   "metadata": {},
   "outputs": [
    {
     "data": {
      "text/html": [
       "<div>\n",
       "<style scoped>\n",
       "    .dataframe tbody tr th:only-of-type {\n",
       "        vertical-align: middle;\n",
       "    }\n",
       "\n",
       "    .dataframe tbody tr th {\n",
       "        vertical-align: top;\n",
       "    }\n",
       "\n",
       "    .dataframe thead th {\n",
       "        text-align: right;\n",
       "    }\n",
       "</style>\n",
       "<table border=\"1\" class=\"dataframe\">\n",
       "  <thead>\n",
       "    <tr style=\"text-align: right;\">\n",
       "      <th></th>\n",
       "      <th>PassengerId</th>\n",
       "      <th>Survived</th>\n",
       "      <th>Pclass</th>\n",
       "      <th>Name</th>\n",
       "      <th>Sex</th>\n",
       "      <th>Age</th>\n",
       "      <th>SibSp</th>\n",
       "      <th>Parch</th>\n",
       "      <th>Ticket</th>\n",
       "      <th>Fare</th>\n",
       "      <th>Cabin</th>\n",
       "      <th>Embarked</th>\n",
       "    </tr>\n",
       "  </thead>\n",
       "  <tbody>\n",
       "    <tr>\n",
       "      <th>0</th>\n",
       "      <td>1</td>\n",
       "      <td>0</td>\n",
       "      <td>3</td>\n",
       "      <td>Braund, Mr. Owen Harris</td>\n",
       "      <td>male</td>\n",
       "      <td>22.0</td>\n",
       "      <td>1</td>\n",
       "      <td>0</td>\n",
       "      <td>A/5 21171</td>\n",
       "      <td>7.2500</td>\n",
       "      <td>NaN</td>\n",
       "      <td>S</td>\n",
       "    </tr>\n",
       "    <tr>\n",
       "      <th>1</th>\n",
       "      <td>2</td>\n",
       "      <td>1</td>\n",
       "      <td>1</td>\n",
       "      <td>Cumings, Mrs. John Bradley (Florence Briggs Th...</td>\n",
       "      <td>female</td>\n",
       "      <td>38.0</td>\n",
       "      <td>1</td>\n",
       "      <td>0</td>\n",
       "      <td>PC 17599</td>\n",
       "      <td>71.2833</td>\n",
       "      <td>C85</td>\n",
       "      <td>C</td>\n",
       "    </tr>\n",
       "    <tr>\n",
       "      <th>2</th>\n",
       "      <td>3</td>\n",
       "      <td>1</td>\n",
       "      <td>3</td>\n",
       "      <td>Heikkinen, Miss. Laina</td>\n",
       "      <td>female</td>\n",
       "      <td>26.0</td>\n",
       "      <td>0</td>\n",
       "      <td>0</td>\n",
       "      <td>STON/O2. 3101282</td>\n",
       "      <td>7.9250</td>\n",
       "      <td>NaN</td>\n",
       "      <td>S</td>\n",
       "    </tr>\n",
       "    <tr>\n",
       "      <th>3</th>\n",
       "      <td>4</td>\n",
       "      <td>1</td>\n",
       "      <td>1</td>\n",
       "      <td>Futrelle, Mrs. Jacques Heath (Lily May Peel)</td>\n",
       "      <td>female</td>\n",
       "      <td>35.0</td>\n",
       "      <td>1</td>\n",
       "      <td>0</td>\n",
       "      <td>113803</td>\n",
       "      <td>53.1000</td>\n",
       "      <td>C123</td>\n",
       "      <td>S</td>\n",
       "    </tr>\n",
       "    <tr>\n",
       "      <th>4</th>\n",
       "      <td>5</td>\n",
       "      <td>0</td>\n",
       "      <td>3</td>\n",
       "      <td>Allen, Mr. William Henry</td>\n",
       "      <td>male</td>\n",
       "      <td>35.0</td>\n",
       "      <td>0</td>\n",
       "      <td>0</td>\n",
       "      <td>373450</td>\n",
       "      <td>8.0500</td>\n",
       "      <td>NaN</td>\n",
       "      <td>S</td>\n",
       "    </tr>\n",
       "  </tbody>\n",
       "</table>\n",
       "</div>"
      ],
      "text/plain": [
       "   PassengerId  Survived  Pclass  \\\n",
       "0            1         0       3   \n",
       "1            2         1       1   \n",
       "2            3         1       3   \n",
       "3            4         1       1   \n",
       "4            5         0       3   \n",
       "\n",
       "                                                Name     Sex   Age  SibSp  \\\n",
       "0                            Braund, Mr. Owen Harris    male  22.0      1   \n",
       "1  Cumings, Mrs. John Bradley (Florence Briggs Th...  female  38.0      1   \n",
       "2                             Heikkinen, Miss. Laina  female  26.0      0   \n",
       "3       Futrelle, Mrs. Jacques Heath (Lily May Peel)  female  35.0      1   \n",
       "4                           Allen, Mr. William Henry    male  35.0      0   \n",
       "\n",
       "   Parch            Ticket     Fare Cabin Embarked  \n",
       "0      0         A/5 21171   7.2500   NaN        S  \n",
       "1      0          PC 17599  71.2833   C85        C  \n",
       "2      0  STON/O2. 3101282   7.9250   NaN        S  \n",
       "3      0            113803  53.1000  C123        S  \n",
       "4      0            373450   8.0500   NaN        S  "
      ]
     },
     "execution_count": 8,
     "metadata": {},
     "output_type": "execute_result"
    }
   ],
   "source": [
    "df.head()"
   ]
  },
  {
   "cell_type": "code",
   "execution_count": 4,
   "id": "f1ef36eb-1106-4895-be01-023412724a5e",
   "metadata": {},
   "outputs": [
    {
     "data": {
      "text/plain": [
       "Survived\n",
       "0    549\n",
       "1    342\n",
       "Name: count, dtype: int64"
      ]
     },
     "execution_count": 4,
     "metadata": {},
     "output_type": "execute_result"
    }
   ],
   "source": [
    "df['Survived'].value_counts()"
   ]
  },
  {
   "cell_type": "code",
   "execution_count": 5,
   "id": "dff6c45c-295d-4c47-bc3d-9feefbdfad9e",
   "metadata": {},
   "outputs": [
    {
     "data": {
      "text/plain": [
       "Sex\n",
       "male      577\n",
       "female    314\n",
       "Name: count, dtype: int64"
      ]
     },
     "execution_count": 5,
     "metadata": {},
     "output_type": "execute_result"
    }
   ],
   "source": [
    "df['Sex'].value_counts()"
   ]
  },
  {
   "cell_type": "code",
   "execution_count": 6,
   "id": "65acfbd3-0fac-4aac-8e6c-738763975adc",
   "metadata": {},
   "outputs": [
    {
     "name": "stdout",
     "output_type": "stream",
     "text": [
      "This are the columns into this dataset :\n",
      " ['PassengerId', 'Survived', 'Pclass', 'Name', 'Sex', 'Age', 'SibSp', 'Parch', 'Ticket', 'Fare', 'Cabin', 'Embarked']\n"
     ]
    }
   ],
   "source": [
    "col = df.columns.tolist()\n",
    "print(\"This are the columns into this dataset :\\n\",col)"
   ]
  },
  {
   "cell_type": "markdown",
   "id": "fa733f65-f17e-4f21-87a3-b4b03b99090c",
   "metadata": {},
   "source": [
    "column name 'SibSp' :\n",
    " SibSp ka matlab hai \"Siblings and Spouses.\" Iska use passengers ke family connections ko dikhane ke liye hota hai.\n",
    "Siblings: Isme bhai, behen ya koi aur close relative shamil ho sakte hain jo aapas me related hain. Spouses: Isme husband ya wife bhi shamil hai.\n",
    "\n",
    "Isse ye pata chalta hai ki passengers apne family ke saath safar kar rahe hain ya nahi. Ye information survival analysis ke liye bhi useful hoti hai, kyunki family connections ka survival rate par asar pad sakta hai."
   ]
  },
  {
   "cell_type": "markdown",
   "id": "0977b393-b874-4d29-be20-73412f33615f",
   "metadata": {},
   "source": [
    "column name 'Parch' : Parch ka matlab hai \"Parents and Children.\" Iska use passenger ke family structure ko samajhne ke liye hota hai.\n",
    "\n",
    "Parents: Isme mother ya father shamil hote hain. Children: Isme koi bhi aisa baccha shamil hai jo passenger ke saath safar kar raha hai, chahe wo biological ho ya adoptive.\n",
    "\n",
    "Family Connections: Ye batata hai ki passenger kitna supportive environment mein hai, jo survival ki chances par asar dal sakta hai. Travel Patterns: Isse yeh bhi pata chalta hai ki log kis tarah se apne family ke saath safar karte hain."
   ]
  },
  {
   "cell_type": "code",
   "execution_count": 7,
   "id": "5c68643a-af7e-4dbe-bb6b-85fc9d87d375",
   "metadata": {},
   "outputs": [
    {
     "name": "stdout",
     "output_type": "stream",
     "text": [
      "In this dataset there are columns 12\n",
      "In this dataset there are rows 891\n"
     ]
    }
   ],
   "source": [
    "print(\"In this dataset there are columns\",len(df.axes[1]))\n",
    "print(\"In this dataset there are rows\",len(df.axes[0]))"
   ]
  },
  {
   "cell_type": "code",
   "execution_count": 8,
   "id": "a539c0a0-782e-43e8-83db-b5ab5424de33",
   "metadata": {},
   "outputs": [],
   "source": [
    "male = df['Sex'].value_counts().iloc[0]\n",
    "female =  df['Sex'].value_counts().iloc[1]"
   ]
  },
  {
   "cell_type": "code",
   "execution_count": 9,
   "id": "138de51e-064c-46cd-9765-da8b01701ec3",
   "metadata": {},
   "outputs": [
    {
     "name": "stdout",
     "output_type": "stream",
     "text": [
      "There are 577 males and 314 females in the Ship\n"
     ]
    }
   ],
   "source": [
    "print(f'There are {male} males and {female} females in the Ship')"
   ]
  },
  {
   "cell_type": "code",
   "execution_count": 10,
   "id": "bf9cc611-a6eb-4bc4-8d40-c5bce4661dab",
   "metadata": {},
   "outputs": [
    {
     "data": {
      "image/png": "[encoded data removed]",
      "text/plain": [
       "<Figure size 600x400 with 1 Axes>"
      ]
     },
     "metadata": {},
     "output_type": "display_data"
    }
   ],
   "source": [
    "# Visualizetion Sex Distribution\n",
    "plt.figure(figsize=(6,4))\n",
    "sns.countplot(x='Sex' , data = df)\n",
    "plt.title(\"Population Distribuction by Sex\")\n",
    "plt.xlabel(\"Sex\")\n",
    "plt.ylabel('Number of Passengers')\n",
    "plt.show()"
   ]
  },
  {
   "cell_type": "code",
   "execution_count": 11,
   "id": "eb838fff-eca0-40e2-af49-31ba076c95a4",
   "metadata": {},
   "outputs": [
    {
     "name": "stdout",
     "output_type": "stream",
     "text": [
      "There are the total passengers in the ship :  891\n"
     ]
    }
   ],
   "source": [
    "print(\"There are the total passengers in the ship : \",len(df.axes[0]))"
   ]
  },
  {
   "cell_type": "code",
   "execution_count": 12,
   "id": "d82be90f-4cef-40c6-9a10-eb1898803084",
   "metadata": {},
   "outputs": [
    {
     "name": "stdout",
     "output_type": "stream",
     "text": [
      "In the Ship there are 3 Different class : \n",
      " [3, 1, 2]\n"
     ]
    }
   ],
   "source": [
    "print(\"In the Ship there are 3 Different class : \\n\",df['Pclass'].unique().tolist())"
   ]
  },
  {
   "cell_type": "code",
   "execution_count": 13,
   "id": "87f2c233-5dbb-4ecc-ba56-4cb5b3c0ca0d",
   "metadata": {},
   "outputs": [
    {
     "data": {
      "image/png": "[encoded data removed]",
      "text/plain": [
       "<Figure size 600x400 with 1 Axes>"
      ]
     },
     "metadata": {},
     "output_type": "display_data"
    }
   ],
   "source": [
    "plt.figure(figsize=(6,4))\n",
    "sns.countplot(x='Pclass',data=df)\n",
    "plt.title('Passenger Distribution by Class')\n",
    "plt.xlabel('Passenger Class')\n",
    "plt.ylabel('Number of Passengers')\n",
    "plt.show()"
   ]
  },
  {
   "cell_type": "code",
   "execution_count": 14,
   "id": "7dbcc0fe-b3ca-43c4-85a3-c53e4a907cda",
   "metadata": {},
   "outputs": [
    {
     "data": {
      "image/png": "[encoded data removed]",
      "text/plain": [
       "<Figure size 800x500 with 1 Axes>"
      ]
     },
     "metadata": {},
     "output_type": "display_data"
    }
   ],
   "source": [
    "\n",
    "# Visualize Sex distribution by Pclass\n",
    "plt.figure(figsize=(8, 5))\n",
    "sns.countplot(x='Pclass', hue='Sex', data=df)\n",
    "plt.title('Sex Distribution by Passenger Class')\n",
    "plt.xlabel('Passenger Class')\n",
    "plt.ylabel('Number of Passengers')\n",
    "plt.show()\n"
   ]
  },
  {
   "cell_type": "markdown",
   "id": "0e21f644-78ef-40fa-8181-8abd3a2423c0",
   "metadata": {},
   "source": [
    "# Exploratory Data Analysis1"
   ]
  },
  {
   "cell_type": "code",
   "execution_count": 15,
   "id": "c42ee1f3-be04-4b93-afbb-42763c45f83a",
   "metadata": {},
   "outputs": [
    {
     "data": {
      "text/plain": [
       "(891, 12)"
      ]
     },
     "execution_count": 15,
     "metadata": {},
     "output_type": "execute_result"
    }
   ],
   "source": [
    "df.shape"
   ]
  },
  {
   "cell_type": "code",
   "execution_count": 16,
   "id": "1b9a5eed-edf0-4b4e-8999-a1a2cc5bb80a",
   "metadata": {},
   "outputs": [
    {
     "name": "stdout",
     "output_type": "stream",
     "text": [
      "There no duplicate value into this dataset \n"
     ]
    }
   ],
   "source": [
    "duplicate=df.duplicated()\n",
    "duplicate.value_counts()\n",
    "print(\"There no duplicate value into this dataset \")"
   ]
  },
  {
   "cell_type": "code",
   "execution_count": 17,
   "id": "b3d7ba79-6bdd-4333-9402-cc7a18dc41d9",
   "metadata": {},
   "outputs": [
    {
     "data": {
      "text/plain": [
       "PassengerId      int64\n",
       "Survived         int64\n",
       "Pclass           int64\n",
       "Name            object\n",
       "Sex             object\n",
       "Age            float64\n",
       "SibSp            int64\n",
       "Parch            int64\n",
       "Ticket          object\n",
       "Fare           float64\n",
       "Cabin           object\n",
       "Embarked        object\n",
       "dtype: object"
      ]
     },
     "execution_count": 17,
     "metadata": {},
     "output_type": "execute_result"
    }
   ],
   "source": [
    "df.dtypes"
   ]
  },
  {
   "cell_type": "markdown",
   "id": "8c8f93d8-dfe4-47ac-8ebe-ef0cedc59516",
   "metadata": {},
   "source": [
    "The Age columns data type is  object we have to convert this into integer datatype\n"
   ]
  },
  {
   "cell_type": "code",
   "execution_count": 18,
   "id": "f0ad061c-ebff-436b-b7bc-d9fb4e745ac9",
   "metadata": {},
   "outputs": [],
   "source": [
    "df['Age'] = pd.to_numeric(df['Age'] , errors = 'coerce')"
   ]
  },
  {
   "cell_type": "code",
   "execution_count": 19,
   "id": "e07b2e27-30c0-4ed7-b659-67879b7176aa",
   "metadata": {},
   "outputs": [
    {
     "data": {
      "text/plain": [
       "PassengerId      int64\n",
       "Survived         int64\n",
       "Pclass           int64\n",
       "Name            object\n",
       "Sex             object\n",
       "Age            float64\n",
       "SibSp            int64\n",
       "Parch            int64\n",
       "Ticket          object\n",
       "Fare           float64\n",
       "Cabin           object\n",
       "Embarked        object\n",
       "dtype: object"
      ]
     },
     "execution_count": 19,
     "metadata": {},
     "output_type": "execute_result"
    }
   ],
   "source": [
    "df.dtypes"
   ]
  },
  {
   "cell_type": "code",
   "execution_count": 20,
   "id": "55a1efdf-cdb6-46ca-8f09-3657e74faf4c",
   "metadata": {},
   "outputs": [
    {
     "data": {
      "text/plain": [
       "PassengerId      0\n",
       "Survived         0\n",
       "Pclass           0\n",
       "Name             0\n",
       "Sex              0\n",
       "Age            177\n",
       "SibSp            0\n",
       "Parch            0\n",
       "Ticket           0\n",
       "Fare             0\n",
       "Cabin          687\n",
       "Embarked         2\n",
       "dtype: int64"
      ]
     },
     "execution_count": 20,
     "metadata": {},
     "output_type": "execute_result"
    }
   ],
   "source": [
    "df.isnull().sum()"
   ]
  },
  {
   "cell_type": "code",
   "execution_count": 21,
   "id": "31cec0b1-2df0-46b3-958f-a2192dd7af48",
   "metadata": {},
   "outputs": [
    {
     "data": {
      "text/plain": [
       "PassengerId     0.000000\n",
       "Survived        0.000000\n",
       "Pclass          0.000000\n",
       "Name            0.000000\n",
       "Sex             0.000000\n",
       "Age            19.865320\n",
       "SibSp           0.000000\n",
       "Parch           0.000000\n",
       "Ticket          0.000000\n",
       "Fare            0.000000\n",
       "Cabin          77.104377\n",
       "Embarked        0.224467\n",
       "dtype: float64"
      ]
     },
     "execution_count": 21,
     "metadata": {},
     "output_type": "execute_result"
    }
   ],
   "source": [
    "(df.isnull().sum() / df.shape[0]) * 100"
   ]
  },
  {
   "cell_type": "markdown",
   "id": "a17659eb-eaf8-4e04-aa0b-a2b28ad56594",
   "metadata": {},
   "source": [
    "Into the Column Cabin contain 77.10%   this is  more than 50% Null values are present in this column so we delete this column    "
   ]
  },
  {
   "cell_type": "code",
   "execution_count": 22,
   "id": "deea98e7-d789-4ef5-9fe3-dda4ebd7431d",
   "metadata": {},
   "outputs": [],
   "source": [
    "del df['Cabin']"
   ]
  },
  {
   "cell_type": "markdown",
   "id": "2a5ea214-db98-4fb8-9d0d-48dc855f4ef7",
   "metadata": {},
   "source": [
    "We Drop two rows for removeing null values for Embarked   column "
   ]
  },
  {
   "cell_type": "code",
   "execution_count": 23,
   "id": "0696300f-cba0-4c81-8633-ff804c4471a8",
   "metadata": {},
   "outputs": [],
   "source": [
    "df['Embarked'].dropna(inplace=True)"
   ]
  },
  {
   "cell_type": "code",
   "execution_count": 24,
   "id": "c4740bbe-45fd-4f51-a2a6-f547548798e9",
   "metadata": {},
   "outputs": [],
   "source": [
    "av=df['Age'].mean()"
   ]
  },
  {
   "cell_type": "code",
   "execution_count": 25,
   "id": "da171ba5-6114-4e6b-ae66-6b7447920718",
   "metadata": {},
   "outputs": [
    {
     "data": {
      "text/plain": [
       "array([22.  , 38.  , 26.  , 35.  ,   nan, 54.  ,  2.  , 27.  , 14.  ,\n",
       "        4.  , 58.  , 20.  , 39.  , 55.  , 31.  , 34.  , 15.  , 28.  ,\n",
       "        8.  , 19.  , 40.  , 66.  , 42.  , 21.  , 18.  ,  3.  ,  7.  ,\n",
       "       49.  , 29.  , 65.  , 28.5 ,  5.  , 11.  , 45.  , 17.  , 32.  ,\n",
       "       16.  , 25.  ,  0.83, 30.  , 33.  , 23.  , 24.  , 46.  , 59.  ,\n",
       "       71.  , 37.  , 47.  , 14.5 , 70.5 , 32.5 , 12.  ,  9.  , 36.5 ,\n",
       "       51.  , 55.5 , 40.5 , 44.  ,  1.  , 61.  , 56.  , 50.  , 36.  ,\n",
       "       45.5 , 20.5 , 62.  , 41.  , 52.  , 63.  , 23.5 ,  0.92, 43.  ,\n",
       "       60.  , 10.  , 64.  , 13.  , 48.  ,  0.75, 53.  , 57.  , 80.  ,\n",
       "       70.  , 24.5 ,  6.  ,  0.67, 30.5 ,  0.42, 34.5 , 74.  ])"
      ]
     },
     "execution_count": 25,
     "metadata": {},
     "output_type": "execute_result"
    }
   ],
   "source": [
    "df['Age'].unique()"
   ]
  },
  {
   "cell_type": "code",
   "execution_count": 26,
   "id": "a4311776-0ed4-42e5-8cf1-a2c75c4523ab",
   "metadata": {},
   "outputs": [],
   "source": [
    "df['Age'].fillna(df['Age'].mean(),inplace=True)"
   ]
  },
  {
   "cell_type": "code",
   "execution_count": 27,
   "id": "6d55d764-83d8-4182-ae6f-e6384fd14905",
   "metadata": {},
   "outputs": [],
   "source": [
    "# Converting 'Age' column to integer type\n",
    "df['Age'] = df['Age'].round().astype(int)"
   ]
  },
  {
   "cell_type": "code",
   "execution_count": 28,
   "id": "68a35f2e-2521-4948-b800-4f173842ee6b",
   "metadata": {},
   "outputs": [],
   "source": [
    "df['Age'] = df['Age'].replace(0,1)"
   ]
  },
  {
   "cell_type": "code",
   "execution_count": 29,
   "id": "ee4c345f-be68-44eb-83e8-63cd1bdb6f96",
   "metadata": {},
   "outputs": [
    {
     "data": {
      "text/plain": [
       "array([22, 38, 26, 35, 30, 54,  2, 27, 14,  4, 58, 20, 39, 55, 31, 34, 15,\n",
       "       28,  8, 19, 40, 66, 42, 21, 18,  3,  7, 49, 29, 65,  5, 11, 45, 17,\n",
       "       32, 16, 25,  1, 33, 23, 24, 46, 59, 71, 37, 47, 70, 12,  9, 36, 51,\n",
       "       56, 44, 61, 50, 62, 41, 52, 63, 43, 60, 10, 64, 13, 48, 53, 57, 80,\n",
       "        6, 74])"
      ]
     },
     "execution_count": 29,
     "metadata": {},
     "output_type": "execute_result"
    }
   ],
   "source": [
    "df['Age'].unique()"
   ]
  },
  {
   "cell_type": "code",
   "execution_count": 30,
   "id": "46fd2d96-1081-4612-98e7-71a89f901cd5",
   "metadata": {},
   "outputs": [
    {
     "name": "stderr",
     "output_type": "stream",
     "text": [
      "C:\\Users\\ANURAG\\anaconda3\\Lib\\site-packages\\seaborn\\_oldcore.py:1119: FutureWarning: use_inf_as_na option is deprecated and will be removed in a future version. Convert inf values to NaN before operating instead.\n",
      "  with pd.option_context('mode.use_inf_as_na', True):\n"
     ]
    },
    {
     "data": {
      "image/png": "[encoded data removed]",
      "text/plain": [
       "<Figure size 600x400 with 1 Axes>"
      ]
     },
     "metadata": {},
     "output_type": "display_data"
    }
   ],
   "source": [
    "\n",
    "# Visualize Age distribution\n",
    "import matplotlib.pyplot as plt\n",
    "import seaborn as sns\n",
    "\n",
    "plt.figure(figsize=(6, 4))\n",
    "sns.histplot(df['Age'].dropna(), kde=True, bins=30)\n",
    "plt.title('Age Distribution of Passengers')\n",
    "plt.xlabel('Age')\n",
    "plt.ylabel('Number of Passengers')\n",
    "plt.show()"
   ]
  },
  {
   "cell_type": "markdown",
   "id": "79ac2811-6560-4dcc-9d5a-8daca14d1c1a",
   "metadata": {},
   "source": [
    "# Find out the top 5 age people in the ship"
   ]
  },
  {
   "cell_type": "code",
   "execution_count": 31,
   "id": "c118a789-a1bb-4f69-a1d0-7830865849ef",
   "metadata": {},
   "outputs": [
    {
     "data": {
      "text/plain": [
       "Age\n",
       "30    204\n",
       "24     32\n",
       "22     27\n",
       "28     27\n",
       "18     26\n",
       "Name: count, dtype: int64"
      ]
     },
     "execution_count": 31,
     "metadata": {},
     "output_type": "execute_result"
    }
   ],
   "source": [
    "df['Age'].value_counts().head(5)"
   ]
  },
  {
   "cell_type": "code",
   "execution_count": 32,
   "id": "f4f89948-26ce-4c90-97be-f986b9f8d6f2",
   "metadata": {},
   "outputs": [
    {
     "data": {
      "text/plain": [
       "<Axes: xlabel='Age'>"
      ]
     },
     "execution_count": 32,
     "metadata": {},
     "output_type": "execute_result"
    },
    {
     "data": {
      "image/png": "[encoded data removed]",
      "text/plain": [
       "<Figure size 640x480 with 1 Axes>"
      ]
     },
     "metadata": {},
     "output_type": "display_data"
    }
   ],
   "source": [
    "df['Age'].value_counts().head(5).plot(kind='bar')"
   ]
  },
  {
   "cell_type": "markdown",
   "id": "0f241de8-6192-4c3a-8af5-0a51ac74a10c",
   "metadata": {},
   "source": [
    "# Find out the Bottom 5 age people in the ship"
   ]
  },
  {
   "cell_type": "code",
   "execution_count": 33,
   "id": "e86abe8f-d2c0-4ab8-9e72-6ee555f2de3e",
   "metadata": {},
   "outputs": [
    {
     "data": {
      "text/plain": [
       "Age\n",
       "12    1\n",
       "53    1\n",
       "66    1\n",
       "80    1\n",
       "74    1\n",
       "Name: count, dtype: int64"
      ]
     },
     "execution_count": 33,
     "metadata": {},
     "output_type": "execute_result"
    }
   ],
   "source": [
    "df['Age'].value_counts().tail(5)"
   ]
  },
  {
   "cell_type": "code",
   "execution_count": 34,
   "id": "bd9443c4-4418-43fc-bd7f-d7ffe8600389",
   "metadata": {},
   "outputs": [
    {
     "data": {
      "text/plain": [
       "<Axes: xlabel='Age'>"
      ]
     },
     "execution_count": 34,
     "metadata": {},
     "output_type": "execute_result"
    },
    {
     "data": {
      "image/png": "[encoded data removed]",
      "text/plain": [
       "<Figure size 640x480 with 1 Axes>"
      ]
     },
     "metadata": {},
     "output_type": "display_data"
    }
   ],
   "source": [
    "df['Age'].value_counts().tail(5).plot(kind='bar')"
   ]
  },
  {
   "cell_type": "markdown",
   "id": "f603ad2a-7dd2-4c91-b7a5-50e79af96b20",
   "metadata": {},
   "source": [
    "# Survivel Analysis"
   ]
  },
  {
   "cell_type": "code",
   "execution_count": 35,
   "id": "377eff8c-debd-4bf2-805a-fdca12118fc1",
   "metadata": {},
   "outputs": [],
   "source": [
    "l = []\n",
    "\n",
    "for i in df['Survived']:\n",
    "    if i == 0:\n",
    "        l.append(\"Not Survive\")\n",
    "    else:\n",
    "        l.append(\"Survived\")\n",
    "\n",
    "df['Survive'] = l"
   ]
  },
  {
   "cell_type": "code",
   "execution_count": 36,
   "id": "1658f70f-cd43-465f-a78e-e8964dc011ab",
   "metadata": {},
   "outputs": [
    {
     "data": {
      "text/html": [
       "<div>\n",
       "<style scoped>\n",
       "    .dataframe tbody tr th:only-of-type {\n",
       "        vertical-align: middle;\n",
       "    }\n",
       "\n",
       "    .dataframe tbody tr th {\n",
       "        vertical-align: top;\n",
       "    }\n",
       "\n",
       "    .dataframe thead th {\n",
       "        text-align: right;\n",
       "    }\n",
       "</style>\n",
       "<table border=\"1\" class=\"dataframe\">\n",
       "  <thead>\n",
       "    <tr style=\"text-align: right;\">\n",
       "      <th></th>\n",
       "      <th>PassengerId</th>\n",
       "      <th>Survived</th>\n",
       "      <th>Pclass</th>\n",
       "      <th>Name</th>\n",
       "      <th>Sex</th>\n",
       "      <th>Age</th>\n",
       "      <th>SibSp</th>\n",
       "      <th>Parch</th>\n",
       "      <th>Ticket</th>\n",
       "      <th>Fare</th>\n",
       "      <th>Embarked</th>\n",
       "      <th>Survive</th>\n",
       "    </tr>\n",
       "  </thead>\n",
       "  <tbody>\n",
       "    <tr>\n",
       "      <th>0</th>\n",
       "      <td>1</td>\n",
       "      <td>0</td>\n",
       "      <td>3</td>\n",
       "      <td>Braund, Mr. Owen Harris</td>\n",
       "      <td>male</td>\n",
       "      <td>22</td>\n",
       "      <td>1</td>\n",
       "      <td>0</td>\n",
       "      <td>A/5 21171</td>\n",
       "      <td>7.2500</td>\n",
       "      <td>S</td>\n",
       "      <td>Not Survive</td>\n",
       "    </tr>\n",
       "    <tr>\n",
       "      <th>1</th>\n",
       "      <td>2</td>\n",
       "      <td>1</td>\n",
       "      <td>1</td>\n",
       "      <td>Cumings, Mrs. John Bradley (Florence Briggs Th...</td>\n",
       "      <td>female</td>\n",
       "      <td>38</td>\n",
       "      <td>1</td>\n",
       "      <td>0</td>\n",
       "      <td>PC 17599</td>\n",
       "      <td>71.2833</td>\n",
       "      <td>C</td>\n",
       "      <td>Survived</td>\n",
       "    </tr>\n",
       "    <tr>\n",
       "      <th>2</th>\n",
       "      <td>3</td>\n",
       "      <td>1</td>\n",
       "      <td>3</td>\n",
       "      <td>Heikkinen, Miss. Laina</td>\n",
       "      <td>female</td>\n",
       "      <td>26</td>\n",
       "      <td>0</td>\n",
       "      <td>0</td>\n",
       "      <td>STON/O2. 3101282</td>\n",
       "      <td>7.9250</td>\n",
       "      <td>S</td>\n",
       "      <td>Survived</td>\n",
       "    </tr>\n",
       "    <tr>\n",
       "      <th>3</th>\n",
       "      <td>4</td>\n",
       "      <td>1</td>\n",
       "      <td>1</td>\n",
       "      <td>Futrelle, Mrs. Jacques Heath (Lily May Peel)</td>\n",
       "      <td>female</td>\n",
       "      <td>35</td>\n",
       "      <td>1</td>\n",
       "      <td>0</td>\n",
       "      <td>113803</td>\n",
       "      <td>53.1000</td>\n",
       "      <td>S</td>\n",
       "      <td>Survived</td>\n",
       "    </tr>\n",
       "    <tr>\n",
       "      <th>4</th>\n",
       "      <td>5</td>\n",
       "      <td>0</td>\n",
       "      <td>3</td>\n",
       "      <td>Allen, Mr. William Henry</td>\n",
       "      <td>male</td>\n",
       "      <td>35</td>\n",
       "      <td>0</td>\n",
       "      <td>0</td>\n",
       "      <td>373450</td>\n",
       "      <td>8.0500</td>\n",
       "      <td>S</td>\n",
       "      <td>Not Survive</td>\n",
       "    </tr>\n",
       "    <tr>\n",
       "      <th>...</th>\n",
       "      <td>...</td>\n",
       "      <td>...</td>\n",
       "      <td>...</td>\n",
       "      <td>...</td>\n",
       "      <td>...</td>\n",
       "      <td>...</td>\n",
       "      <td>...</td>\n",
       "      <td>...</td>\n",
       "      <td>...</td>\n",
       "      <td>...</td>\n",
       "      <td>...</td>\n",
       "      <td>...</td>\n",
       "    </tr>\n",
       "    <tr>\n",
       "      <th>886</th>\n",
       "      <td>887</td>\n",
       "      <td>0</td>\n",
       "      <td>2</td>\n",
       "      <td>Montvila, Rev. Juozas</td>\n",
       "      <td>male</td>\n",
       "      <td>27</td>\n",
       "      <td>0</td>\n",
       "      <td>0</td>\n",
       "      <td>211536</td>\n",
       "      <td>13.0000</td>\n",
       "      <td>S</td>\n",
       "      <td>Not Survive</td>\n",
       "    </tr>\n",
       "    <tr>\n",
       "      <th>887</th>\n",
       "      <td>888</td>\n",
       "      <td>1</td>\n",
       "      <td>1</td>\n",
       "      <td>Graham, Miss. Margaret Edith</td>\n",
       "      <td>female</td>\n",
       "      <td>19</td>\n",
       "      <td>0</td>\n",
       "      <td>0</td>\n",
       "      <td>112053</td>\n",
       "      <td>30.0000</td>\n",
       "      <td>S</td>\n",
       "      <td>Survived</td>\n",
       "    </tr>\n",
       "    <tr>\n",
       "      <th>888</th>\n",
       "      <td>889</td>\n",
       "      <td>0</td>\n",
       "      <td>3</td>\n",
       "      <td>Johnston, Miss. Catherine Helen \"Carrie\"</td>\n",
       "      <td>female</td>\n",
       "      <td>30</td>\n",
       "      <td>1</td>\n",
       "      <td>2</td>\n",
       "      <td>W./C. 6607</td>\n",
       "      <td>23.4500</td>\n",
       "      <td>S</td>\n",
       "      <td>Not Survive</td>\n",
       "    </tr>\n",
       "    <tr>\n",
       "      <th>889</th>\n",
       "      <td>890</td>\n",
       "      <td>1</td>\n",
       "      <td>1</td>\n",
       "      <td>Behr, Mr. Karl Howell</td>\n",
       "      <td>male</td>\n",
       "      <td>26</td>\n",
       "      <td>0</td>\n",
       "      <td>0</td>\n",
       "      <td>111369</td>\n",
       "      <td>30.0000</td>\n",
       "      <td>C</td>\n",
       "      <td>Survived</td>\n",
       "    </tr>\n",
       "    <tr>\n",
       "      <th>890</th>\n",
       "      <td>891</td>\n",
       "      <td>0</td>\n",
       "      <td>3</td>\n",
       "      <td>Dooley, Mr. Patrick</td>\n",
       "      <td>male</td>\n",
       "      <td>32</td>\n",
       "      <td>0</td>\n",
       "      <td>0</td>\n",
       "      <td>370376</td>\n",
       "      <td>7.7500</td>\n",
       "      <td>Q</td>\n",
       "      <td>Not Survive</td>\n",
       "    </tr>\n",
       "  </tbody>\n",
       "</table>\n",
       "<p>891 rows × 12 columns</p>\n",
       "</div>"
      ],
      "text/plain": [
       "     PassengerId  Survived  Pclass  \\\n",
       "0              1         0       3   \n",
       "1              2         1       1   \n",
       "2              3         1       3   \n",
       "3              4         1       1   \n",
       "4              5         0       3   \n",
       "..           ...       ...     ...   \n",
       "886          887         0       2   \n",
       "887          888         1       1   \n",
       "888          889         0       3   \n",
       "889          890         1       1   \n",
       "890          891         0       3   \n",
       "\n",
       "                                                  Name     Sex  Age  SibSp  \\\n",
       "0                              Braund, Mr. Owen Harris    male   22      1   \n",
       "1    Cumings, Mrs. John Bradley (Florence Briggs Th...  female   38      1   \n",
       "2                               Heikkinen, Miss. Laina  female   26      0   \n",
       "3         Futrelle, Mrs. Jacques Heath (Lily May Peel)  female   35      1   \n",
       "4                             Allen, Mr. William Henry    male   35      0   \n",
       "..                                                 ...     ...  ...    ...   \n",
       "886                              Montvila, Rev. Juozas    male   27      0   \n",
       "887                       Graham, Miss. Margaret Edith  female   19      0   \n",
       "888           Johnston, Miss. Catherine Helen \"Carrie\"  female   30      1   \n",
       "889                              Behr, Mr. Karl Howell    male   26      0   \n",
       "890                                Dooley, Mr. Patrick    male   32      0   \n",
       "\n",
       "     Parch            Ticket     Fare Embarked      Survive  \n",
       "0        0         A/5 21171   7.2500        S  Not Survive  \n",
       "1        0          PC 17599  71.2833        C     Survived  \n",
       "2        0  STON/O2. 3101282   7.9250        S     Survived  \n",
       "3        0            113803  53.1000        S     Survived  \n",
       "4        0            373450   8.0500        S  Not Survive  \n",
       "..     ...               ...      ...      ...          ...  \n",
       "886      0            211536  13.0000        S  Not Survive  \n",
       "887      0            112053  30.0000        S     Survived  \n",
       "888      2        W./C. 6607  23.4500        S  Not Survive  \n",
       "889      0            111369  30.0000        C     Survived  \n",
       "890      0            370376   7.7500        Q  Not Survive  \n",
       "\n",
       "[891 rows x 12 columns]"
      ]
     },
     "execution_count": 36,
     "metadata": {},
     "output_type": "execute_result"
    }
   ],
   "source": [
    "df"
   ]
  },
  {
   "cell_type": "markdown",
   "id": "3af2d714-baa9-431d-b078-3501642be575",
   "metadata": {},
   "source": [
    "# Find out how many passengers has Not Survive and Survive"
   ]
  },
  {
   "cell_type": "code",
   "execution_count": 37,
   "id": "802c9f9f-d737-48f0-b7e4-c548bbf67813",
   "metadata": {},
   "outputs": [
    {
     "data": {
      "text/plain": [
       "Survive\n",
       "Not Survive    549\n",
       "Survived       342\n",
       "Name: count, dtype: int64"
      ]
     },
     "execution_count": 37,
     "metadata": {},
     "output_type": "execute_result"
    }
   ],
   "source": [
    "df['Survive'].value_counts()"
   ]
  },
  {
   "cell_type": "code",
   "execution_count": 38,
   "id": "62d63116-2d19-4b5e-81af-8dc8c99b0779",
   "metadata": {},
   "outputs": [
    {
     "data": {
      "text/plain": [
       "<Axes: xlabel='Survive', ylabel='count'>"
      ]
     },
     "execution_count": 38,
     "metadata": {},
     "output_type": "execute_result"
    },
    {
     "data": {
      "image/png": "[encoded data removed]",
      "text/plain": [
       "<Figure size 640x480 with 1 Axes>"
      ]
     },
     "metadata": {},
     "output_type": "display_data"
    }
   ],
   "source": [
    "# Visulazation\n",
    "sns.countplot(x='Survive',data=df)"
   ]
  },
  {
   "cell_type": "markdown",
   "id": "05c4555a-f155-4f97-9f30-86216312aa56",
   "metadata": {},
   "source": [
    "# 1. What was the survival rate based on gender?"
   ]
  },
  {
   "cell_type": "code",
   "execution_count": 39,
   "id": "aeb83c2e-44ee-4544-8216-cd3692ef435a",
   "metadata": {},
   "outputs": [
    {
     "name": "stdout",
     "output_type": "stream",
     "text": [
      "Sex\n",
      "female    74.203822\n",
      "male      18.890815\n",
      "Name: Survived, dtype: float64\n"
     ]
    }
   ],
   "source": [
    "# Group by gender and calculate the survival rate\n",
    "survival_rate_gender = df.groupby('Sex')['Survived'].mean() * 100\n",
    "\n",
    "# Display the result\n",
    "print(survival_rate_gender)\n"
   ]
  },
  {
   "cell_type": "code",
   "execution_count": 88,
   "id": "5cad782a-dccb-4396-8aee-6ef20a960211",
   "metadata": {},
   "outputs": [
    {
     "name": "stdout",
     "output_type": "stream",
     "text": [
      "There are 577 males and 314 females in the Ship\n"
     ]
    }
   ],
   "source": [
    "print(f'There are {male} males and {female} females in the Ship')"
   ]
  },
  {
   "cell_type": "code",
   "execution_count": 40,
   "id": "dc2adac2-0276-4780-a15c-60ece31d8b96",
   "metadata": {},
   "outputs": [
    {
     "data": {
      "text/plain": [
       "Survive      Sex   \n",
       "Not Survive  female     81\n",
       "             male      468\n",
       "dtype: int64"
      ]
     },
     "execution_count": 40,
     "metadata": {},
     "output_type": "execute_result"
    }
   ],
   "source": [
    "Not_Survive = df.groupby(['Survive','Sex']).size().head(2)\n",
    "Not_Survive"
   ]
  },
  {
   "cell_type": "code",
   "execution_count": 41,
   "id": "1126ed79-7293-4381-b78b-846472335c30",
   "metadata": {},
   "outputs": [
    {
     "data": {
      "text/plain": [
       "Survive   Sex   \n",
       "Survived  female    233\n",
       "          male      109\n",
       "dtype: int64"
      ]
     },
     "execution_count": 41,
     "metadata": {},
     "output_type": "execute_result"
    }
   ],
   "source": [
    "Survive = df.groupby(['Survive','Sex']).size().tail(2)\n",
    "Survive"
   ]
  },
  {
   "cell_type": "code",
   "execution_count": 42,
   "id": "ec65b108-06d9-4059-b4ed-203c6dd8eebd",
   "metadata": {},
   "outputs": [
    {
     "data": {
      "text/plain": [
       "<Axes: xlabel='Survive', ylabel='count'>"
      ]
     },
     "execution_count": 42,
     "metadata": {},
     "output_type": "execute_result"
    },
    {
     "data": {
      "image/png": "[encoded data removed]",
      "text/plain": [
       "<Figure size 640x480 with 1 Axes>"
      ]
     },
     "metadata": {},
     "output_type": "display_data"
    }
   ],
   "source": [
    "sns.countplot(x='Survive',hue = 'Sex' ,data=df)"
   ]
  },
  {
   "cell_type": "code",
   "execution_count": 43,
   "id": "f3867ce9-ea4d-44e2-bae6-873935a38dec",
   "metadata": {},
   "outputs": [
    {
     "name": "stderr",
     "output_type": "stream",
     "text": [
      "C:\\Users\\ANURAG\\AppData\\Local\\Temp\\ipykernel_7764\\4191779852.py:1: FutureWarning: Series.__getitem__ treating keys as positions is deprecated. In a future version, integer keys will always be treated as labels (consistent with DataFrame behavior). To access a value by position, use `ser.iloc[pos]`\n",
      "  Not_Survive_female = df.groupby(['Survive','Sex']).size()[0]\n",
      "C:\\Users\\ANURAG\\AppData\\Local\\Temp\\ipykernel_7764\\4191779852.py:2: FutureWarning: Series.__getitem__ treating keys as positions is deprecated. In a future version, integer keys will always be treated as labels (consistent with DataFrame behavior). To access a value by position, use `ser.iloc[pos]`\n",
      "  Not_Survive_male = df.groupby(['Survive','Sex']).size()[1]\n",
      "C:\\Users\\ANURAG\\AppData\\Local\\Temp\\ipykernel_7764\\4191779852.py:3: FutureWarning: Series.__getitem__ treating keys as positions is deprecated. In a future version, integer keys will always be treated as labels (consistent with DataFrame behavior). To access a value by position, use `ser.iloc[pos]`\n",
      "  Survive_female = df.groupby(['Survive','Sex']).size()[2]\n",
      "C:\\Users\\ANURAG\\AppData\\Local\\Temp\\ipykernel_7764\\4191779852.py:4: FutureWarning: Series.__getitem__ treating keys as positions is deprecated. In a future version, integer keys will always be treated as labels (consistent with DataFrame behavior). To access a value by position, use `ser.iloc[pos]`\n",
      "  Survive_male = df.groupby(['Survive','Sex']).size()[3]\n"
     ]
    }
   ],
   "source": [
    "Not_Survive_female = df.groupby(['Survive','Sex']).size()[0]\n",
    "Not_Survive_male = df.groupby(['Survive','Sex']).size()[1]\n",
    "Survive_female = df.groupby(['Survive','Sex']).size()[2]\n",
    "Survive_male = df.groupby(['Survive','Sex']).size()[3]\n"
   ]
  },
  {
   "cell_type": "code",
   "execution_count": 44,
   "id": "cb9d9420-b596-463f-8db1-a43803877140",
   "metadata": {},
   "outputs": [
    {
     "name": "stdout",
     "output_type": "stream",
     "text": [
      "There are 81 females who did not survive, and 468 males who did not survive.\n"
     ]
    }
   ],
   "source": [
    "print(f\"There are {Not_Survive_female} females who did not survive, and {Not_Survive_male} males who did not survive.\")"
   ]
  },
  {
   "cell_type": "code",
   "execution_count": 45,
   "id": "5eb1f680-cc6b-4473-8e4c-d4d0746e9221",
   "metadata": {},
   "outputs": [
    {
     "name": "stdout",
     "output_type": "stream",
     "text": [
      "There are 233 females who survived and 109 males who survived.\n"
     ]
    }
   ],
   "source": [
    "print(f\"There are {Survive_female} females who survived and {Survive_male} males who survived.\")"
   ]
  },
  {
   "cell_type": "markdown",
   "id": "f80fb4d2-b55c-41dc-99a1-0c38e5f2a482",
   "metadata": {},
   "source": [
    "# Find out the which Age Group passenger has more Survived"
   ]
  },
  {
   "cell_type": "code",
   "execution_count": 46,
   "id": "9e4e4879-ed3d-4fa2-a7bc-0371df013b9d",
   "metadata": {},
   "outputs": [],
   "source": [
    "list = []\n",
    "\n",
    "for i in df['Age']:\n",
    "    if i < 2:\n",
    "        list.append('Baby')\n",
    "    elif i < 12:\n",
    "        list.append('Child')\n",
    "    elif i < 18:\n",
    "        list.append('Teenager')\n",
    "    elif i< 35:\n",
    "        list.append('Young Adult')\n",
    "    elif i < 65:\n",
    "        list.append('Adult')\n",
    "    else:\n",
    "        list.append('Senior')\n",
    "\n",
    "df['Age_Group'] = list"
   ]
  },
  {
   "cell_type": "code",
   "execution_count": 47,
   "id": "6b191853-5a2a-4bfb-a12d-aa0e378b23ed",
   "metadata": {},
   "outputs": [
    {
     "data": {
      "text/plain": [
       "Survive      Age_Group  \n",
       "Not Survive  Adult          131\n",
       "             Baby             2\n",
       "             Child           27\n",
       "             Senior          10\n",
       "             Teenager        23\n",
       "             Young Adult    356\n",
       "Survived     Adult           93\n",
       "             Baby            12\n",
       "             Child           27\n",
       "             Senior           1\n",
       "             Teenager        22\n",
       "             Young Adult    187\n",
       "dtype: int64"
      ]
     },
     "execution_count": 47,
     "metadata": {},
     "output_type": "execute_result"
    }
   ],
   "source": [
    "df.groupby(['Survive','Age_Group']).size()"
   ]
  },
  {
   "cell_type": "code",
   "execution_count": 48,
   "id": "248d3a67-29ea-4faf-9499-9ef93df8985b",
   "metadata": {},
   "outputs": [
    {
     "data": {
      "text/plain": [
       "<Axes: xlabel='Age_Group', ylabel='count'>"
      ]
     },
     "execution_count": 48,
     "metadata": {},
     "output_type": "execute_result"
    },
    {
     "data": {
      "image/png": "[encoded data removed]",
      "text/plain": [
       "<Figure size 640x480 with 1 Axes>"
      ]
     },
     "metadata": {},
     "output_type": "display_data"
    }
   ],
   "source": [
    "sns.countplot(x='Age_Group' , data=df)"
   ]
  },
  {
   "cell_type": "code",
   "execution_count": 49,
   "id": "6995a5ac-ca27-47c8-a0fb-a7765d7d6423",
   "metadata": {},
   "outputs": [
    {
     "data": {
      "text/plain": [
       "<Axes: xlabel='Age_Group', ylabel='count'>"
      ]
     },
     "execution_count": 49,
     "metadata": {},
     "output_type": "execute_result"
    },
    {
     "data": {
      "image/png": "[encoded data removed]",
      "text/plain": [
       "<Figure size 640x480 with 1 Axes>"
      ]
     },
     "metadata": {},
     "output_type": "display_data"
    }
   ],
   "source": [
    "sns.countplot(x='Age_Group' ,hue='Survive', data=df)"
   ]
  },
  {
   "cell_type": "code",
   "execution_count": 50,
   "id": "d5e1eba5-3a71-40bb-86d4-8cd979af17ac",
   "metadata": {},
   "outputs": [
    {
     "data": {
      "text/plain": [
       "Age_Group\n",
       "Young Adult    543\n",
       "Adult          224\n",
       "Child           54\n",
       "Teenager        45\n",
       "Baby            14\n",
       "Senior          11\n",
       "Name: count, dtype: int64"
      ]
     },
     "execution_count": 50,
     "metadata": {},
     "output_type": "execute_result"
    }
   ],
   "source": [
    "df['Age_Group'].value_counts()"
   ]
  },
  {
   "cell_type": "markdown",
   "id": "157b1abc-2a42-4dae-b857-7d9b8d7af427",
   "metadata": {},
   "source": [
    "# 2. Which passenger class (Pclass) had the highest survival rate?"
   ]
  },
  {
   "cell_type": "code",
   "execution_count": 51,
   "id": "39e6d8a7-5820-4b9d-8136-c4ab3816459f",
   "metadata": {},
   "outputs": [
    {
     "data": {
      "text/plain": [
       "Pclass\n",
       "1    62.962963\n",
       "2    47.282609\n",
       "3    24.236253\n",
       "Name: Survived, dtype: float64"
      ]
     },
     "execution_count": 51,
     "metadata": {},
     "output_type": "execute_result"
    }
   ],
   "source": [
    "Survival_rate_Pclass = df.groupby('Pclass')['Survived'].mean()*100\n",
    "Survival_rate_Pclass"
   ]
  },
  {
   "cell_type": "code",
   "execution_count": 52,
   "id": "f68c5739-96c1-4e6d-a626-3614b7ac5c07",
   "metadata": {},
   "outputs": [
    {
     "data": {
      "image/png": "[encoded data removed]",
      "text/plain": [
       "<Figure size 800x500 with 1 Axes>"
      ]
     },
     "metadata": {},
     "output_type": "display_data"
    }
   ],
   "source": [
    "\n",
    "# Visualize Sex distribution by Pclass\n",
    "plt.figure(figsize=(8, 5))\n",
    "sns.barplot(x=Survival_rate_Pclass.index, y = Survival_rate_Pclass.values, palette='viridis')\n",
    "plt.title('Survive Distribution by Passenger Class')\n",
    "plt.xlabel('Passenger Class')\n",
    "plt.ylabel('Number of Passengers')\n",
    "plt.show()\n"
   ]
  },
  {
   "cell_type": "markdown",
   "id": "f805c049-643a-4a62-ab92-686894f847f0",
   "metadata": {},
   "source": [
    "# 3. How does age affect the survival rate?\n"
   ]
  },
  {
   "cell_type": "code",
   "execution_count": 53,
   "id": "7ee3cb23-b686-4a5d-97a6-1493a7e35166",
   "metadata": {},
   "outputs": [
    {
     "data": {
      "text/plain": [
       "Age_Group\n",
       "Young Adult    543\n",
       "Adult          224\n",
       "Child           54\n",
       "Teenager        45\n",
       "Baby            14\n",
       "Senior          11\n",
       "Name: count, dtype: int64"
      ]
     },
     "execution_count": 53,
     "metadata": {},
     "output_type": "execute_result"
    }
   ],
   "source": [
    "df['Age_Group'].value_counts()"
   ]
  },
  {
   "cell_type": "code",
   "execution_count": 54,
   "id": "4b4d4313-85f3-4722-b2a9-80a5222ef790",
   "metadata": {},
   "outputs": [
    {
     "data": {
      "text/plain": [
       "Age\n",
       "30    62\n",
       "24    15\n",
       "1     12\n",
       "Name: Survived, dtype: int64"
      ]
     },
     "execution_count": 54,
     "metadata": {},
     "output_type": "execute_result"
    }
   ],
   "source": [
    "df.groupby('Age')['Survived'].sum().sort_values(ascending=False).head(3)"
   ]
  },
  {
   "cell_type": "code",
   "execution_count": 55,
   "id": "6c0335dc-9b5b-470b-8b7e-64d039241e6c",
   "metadata": {},
   "outputs": [
    {
     "data": {
      "text/plain": [
       "Age_Group\n",
       "Young Adult    187\n",
       "Adult           93\n",
       "Child           27\n",
       "Teenager        22\n",
       "Baby            12\n",
       "Senior           1\n",
       "Name: Survived, dtype: int64"
      ]
     },
     "execution_count": 55,
     "metadata": {},
     "output_type": "execute_result"
    }
   ],
   "source": [
    "df.groupby('Age_Group')['Survived'].sum().sort_values(ascending=False)"
   ]
  },
  {
   "cell_type": "code",
   "execution_count": 56,
   "id": "57e51e07-2e82-466d-9c8f-674f90e977b3",
   "metadata": {},
   "outputs": [
    {
     "data": {
      "text/plain": [
       "Age_Group\n",
       "Baby           85.714286\n",
       "Child          50.000000\n",
       "Teenager       48.888889\n",
       "Adult          41.517857\n",
       "Young Adult    34.438306\n",
       "Senior          9.090909\n",
       "Name: Survived, dtype: float64"
      ]
     },
     "execution_count": 56,
     "metadata": {},
     "output_type": "execute_result"
    }
   ],
   "source": [
    "survival_rate_age=df.groupby('Age_Group')['Survived'].mean().sort_values(ascending=False)*100\n",
    "survival_rate_age"
   ]
  },
  {
   "cell_type": "code",
   "execution_count": 57,
   "id": "b19933dc-0419-49a7-9d00-6b15ad3b1f03",
   "metadata": {},
   "outputs": [
    {
     "data": {
      "image/png": "[encoded data removed]",
      "text/plain": [
       "<Figure size 600x400 with 1 Axes>"
      ]
     },
     "metadata": {},
     "output_type": "display_data"
    }
   ],
   "source": [
    "\n",
    "# Plot the survival rate for each age group\n",
    "plt.figure(figsize=(6, 4))\n",
    "sns.barplot(x=survival_rate_age.index, y=survival_rate_age.values, palette='coolwarm')\n",
    "\n",
    "# Add labels and title\n",
    "plt.xlabel('Age Group')\n",
    "plt.ylabel('Survival Rate (%)')\n",
    "plt.title('Survival Rate by Age Group')\n",
    "plt.show()"
   ]
  },
  {
   "cell_type": "markdown",
   "id": "8d8c79ea-ef37-4e3b-9ac4-65904c30339a",
   "metadata": {},
   "source": [
    "# 4. Did the number of siblings or spouses aboard (SibSp) impact survival?\n",
    "Kya jahaz par kitne bhai-behen ya pati-patni (SibSp) the, isne survival ko affect kiya?"
   ]
  },
  {
   "cell_type": "code",
   "execution_count": 58,
   "id": "bb33b36b-0b64-44c6-89c9-40e5ac4c8f01",
   "metadata": {},
   "outputs": [
    {
     "data": {
      "text/plain": [
       "SibSp\n",
       "1    53.588517\n",
       "2    46.428571\n",
       "0    34.539474\n",
       "3    25.000000\n",
       "4    16.666667\n",
       "5     0.000000\n",
       "8     0.000000\n",
       "Name: Survived, dtype: float64"
      ]
     },
     "execution_count": 58,
     "metadata": {},
     "output_type": "execute_result"
    }
   ],
   "source": [
    "survival_rate_SibSp=df.groupby('SibSp')['Survived'].mean().sort_values(ascending=False)*100\n",
    "survival_rate_SibSp"
   ]
  },
  {
   "cell_type": "code",
   "execution_count": 59,
   "id": "356c82ba-c6c2-4f96-bd94-14c962437488",
   "metadata": {},
   "outputs": [
    {
     "data": {
      "image/png": "[encoded data removed]",
      "text/plain": [
       "<Figure size 600x400 with 1 Axes>"
      ]
     },
     "metadata": {},
     "output_type": "display_data"
    }
   ],
   "source": [
    "\n",
    "# Plot the survival rate for each age group\n",
    "plt.figure(figsize=(6, 4))\n",
    "sns.barplot(x=survival_rate_SibSp.index, y=survival_rate_SibSp.values, palette='magma')\n",
    "\n",
    "# Add labels and title\n",
    "plt.xlabel('siblings or spouses ')\n",
    "plt.ylabel('Survival Rate (%)')\n",
    "plt.title('Survival Rate by siblings or spouses  ')\n",
    "plt.show()"
   ]
  },
  {
   "cell_type": "code",
   "execution_count": 60,
   "id": "bd3a6a4e-20d0-4f87-9e18-2ad901a91c48",
   "metadata": {},
   "outputs": [
    {
     "data": {
      "text/html": [
       "<div>\n",
       "<style scoped>\n",
       "    .dataframe tbody tr th:only-of-type {\n",
       "        vertical-align: middle;\n",
       "    }\n",
       "\n",
       "    .dataframe tbody tr th {\n",
       "        vertical-align: top;\n",
       "    }\n",
       "\n",
       "    .dataframe thead th {\n",
       "        text-align: right;\n",
       "    }\n",
       "</style>\n",
       "<table border=\"1\" class=\"dataframe\">\n",
       "  <thead>\n",
       "    <tr style=\"text-align: right;\">\n",
       "      <th></th>\n",
       "      <th>PassengerId</th>\n",
       "      <th>Survived</th>\n",
       "      <th>Pclass</th>\n",
       "      <th>Name</th>\n",
       "      <th>Sex</th>\n",
       "      <th>Age</th>\n",
       "      <th>SibSp</th>\n",
       "      <th>Parch</th>\n",
       "      <th>Ticket</th>\n",
       "      <th>Fare</th>\n",
       "      <th>Embarked</th>\n",
       "      <th>Survive</th>\n",
       "      <th>Age_Group</th>\n",
       "    </tr>\n",
       "  </thead>\n",
       "  <tbody>\n",
       "    <tr>\n",
       "      <th>0</th>\n",
       "      <td>1</td>\n",
       "      <td>0</td>\n",
       "      <td>3</td>\n",
       "      <td>Braund, Mr. Owen Harris</td>\n",
       "      <td>male</td>\n",
       "      <td>22</td>\n",
       "      <td>1</td>\n",
       "      <td>0</td>\n",
       "      <td>A/5 21171</td>\n",
       "      <td>7.2500</td>\n",
       "      <td>S</td>\n",
       "      <td>Not Survive</td>\n",
       "      <td>Young Adult</td>\n",
       "    </tr>\n",
       "    <tr>\n",
       "      <th>1</th>\n",
       "      <td>2</td>\n",
       "      <td>1</td>\n",
       "      <td>1</td>\n",
       "      <td>Cumings, Mrs. John Bradley (Florence Briggs Th...</td>\n",
       "      <td>female</td>\n",
       "      <td>38</td>\n",
       "      <td>1</td>\n",
       "      <td>0</td>\n",
       "      <td>PC 17599</td>\n",
       "      <td>71.2833</td>\n",
       "      <td>C</td>\n",
       "      <td>Survived</td>\n",
       "      <td>Adult</td>\n",
       "    </tr>\n",
       "    <tr>\n",
       "      <th>2</th>\n",
       "      <td>3</td>\n",
       "      <td>1</td>\n",
       "      <td>3</td>\n",
       "      <td>Heikkinen, Miss. Laina</td>\n",
       "      <td>female</td>\n",
       "      <td>26</td>\n",
       "      <td>0</td>\n",
       "      <td>0</td>\n",
       "      <td>STON/O2. 3101282</td>\n",
       "      <td>7.9250</td>\n",
       "      <td>S</td>\n",
       "      <td>Survived</td>\n",
       "      <td>Young Adult</td>\n",
       "    </tr>\n",
       "    <tr>\n",
       "      <th>3</th>\n",
       "      <td>4</td>\n",
       "      <td>1</td>\n",
       "      <td>1</td>\n",
       "      <td>Futrelle, Mrs. Jacques Heath (Lily May Peel)</td>\n",
       "      <td>female</td>\n",
       "      <td>35</td>\n",
       "      <td>1</td>\n",
       "      <td>0</td>\n",
       "      <td>113803</td>\n",
       "      <td>53.1000</td>\n",
       "      <td>S</td>\n",
       "      <td>Survived</td>\n",
       "      <td>Adult</td>\n",
       "    </tr>\n",
       "    <tr>\n",
       "      <th>4</th>\n",
       "      <td>5</td>\n",
       "      <td>0</td>\n",
       "      <td>3</td>\n",
       "      <td>Allen, Mr. William Henry</td>\n",
       "      <td>male</td>\n",
       "      <td>35</td>\n",
       "      <td>0</td>\n",
       "      <td>0</td>\n",
       "      <td>373450</td>\n",
       "      <td>8.0500</td>\n",
       "      <td>S</td>\n",
       "      <td>Not Survive</td>\n",
       "      <td>Adult</td>\n",
       "    </tr>\n",
       "    <tr>\n",
       "      <th>...</th>\n",
       "      <td>...</td>\n",
       "      <td>...</td>\n",
       "      <td>...</td>\n",
       "      <td>...</td>\n",
       "      <td>...</td>\n",
       "      <td>...</td>\n",
       "      <td>...</td>\n",
       "      <td>...</td>\n",
       "      <td>...</td>\n",
       "      <td>...</td>\n",
       "      <td>...</td>\n",
       "      <td>...</td>\n",
       "      <td>...</td>\n",
       "    </tr>\n",
       "    <tr>\n",
       "      <th>886</th>\n",
       "      <td>887</td>\n",
       "      <td>0</td>\n",
       "      <td>2</td>\n",
       "      <td>Montvila, Rev. Juozas</td>\n",
       "      <td>male</td>\n",
       "      <td>27</td>\n",
       "      <td>0</td>\n",
       "      <td>0</td>\n",
       "      <td>211536</td>\n",
       "      <td>13.0000</td>\n",
       "      <td>S</td>\n",
       "      <td>Not Survive</td>\n",
       "      <td>Young Adult</td>\n",
       "    </tr>\n",
       "    <tr>\n",
       "      <th>887</th>\n",
       "      <td>888</td>\n",
       "      <td>1</td>\n",
       "      <td>1</td>\n",
       "      <td>Graham, Miss. Margaret Edith</td>\n",
       "      <td>female</td>\n",
       "      <td>19</td>\n",
       "      <td>0</td>\n",
       "      <td>0</td>\n",
       "      <td>112053</td>\n",
       "      <td>30.0000</td>\n",
       "      <td>S</td>\n",
       "      <td>Survived</td>\n",
       "      <td>Young Adult</td>\n",
       "    </tr>\n",
       "    <tr>\n",
       "      <th>888</th>\n",
       "      <td>889</td>\n",
       "      <td>0</td>\n",
       "      <td>3</td>\n",
       "      <td>Johnston, Miss. Catherine Helen \"Carrie\"</td>\n",
       "      <td>female</td>\n",
       "      <td>30</td>\n",
       "      <td>1</td>\n",
       "      <td>2</td>\n",
       "      <td>W./C. 6607</td>\n",
       "      <td>23.4500</td>\n",
       "      <td>S</td>\n",
       "      <td>Not Survive</td>\n",
       "      <td>Young Adult</td>\n",
       "    </tr>\n",
       "    <tr>\n",
       "      <th>889</th>\n",
       "      <td>890</td>\n",
       "      <td>1</td>\n",
       "      <td>1</td>\n",
       "      <td>Behr, Mr. Karl Howell</td>\n",
       "      <td>male</td>\n",
       "      <td>26</td>\n",
       "      <td>0</td>\n",
       "      <td>0</td>\n",
       "      <td>111369</td>\n",
       "      <td>30.0000</td>\n",
       "      <td>C</td>\n",
       "      <td>Survived</td>\n",
       "      <td>Young Adult</td>\n",
       "    </tr>\n",
       "    <tr>\n",
       "      <th>890</th>\n",
       "      <td>891</td>\n",
       "      <td>0</td>\n",
       "      <td>3</td>\n",
       "      <td>Dooley, Mr. Patrick</td>\n",
       "      <td>male</td>\n",
       "      <td>32</td>\n",
       "      <td>0</td>\n",
       "      <td>0</td>\n",
       "      <td>370376</td>\n",
       "      <td>7.7500</td>\n",
       "      <td>Q</td>\n",
       "      <td>Not Survive</td>\n",
       "      <td>Young Adult</td>\n",
       "    </tr>\n",
       "  </tbody>\n",
       "</table>\n",
       "<p>891 rows × 13 columns</p>\n",
       "</div>"
      ],
      "text/plain": [
       "     PassengerId  Survived  Pclass  \\\n",
       "0              1         0       3   \n",
       "1              2         1       1   \n",
       "2              3         1       3   \n",
       "3              4         1       1   \n",
       "4              5         0       3   \n",
       "..           ...       ...     ...   \n",
       "886          887         0       2   \n",
       "887          888         1       1   \n",
       "888          889         0       3   \n",
       "889          890         1       1   \n",
       "890          891         0       3   \n",
       "\n",
       "                                                  Name     Sex  Age  SibSp  \\\n",
       "0                              Braund, Mr. Owen Harris    male   22      1   \n",
       "1    Cumings, Mrs. John Bradley (Florence Briggs Th...  female   38      1   \n",
       "2                               Heikkinen, Miss. Laina  female   26      0   \n",
       "3         Futrelle, Mrs. Jacques Heath (Lily May Peel)  female   35      1   \n",
       "4                             Allen, Mr. William Henry    male   35      0   \n",
       "..                                                 ...     ...  ...    ...   \n",
       "886                              Montvila, Rev. Juozas    male   27      0   \n",
       "887                       Graham, Miss. Margaret Edith  female   19      0   \n",
       "888           Johnston, Miss. Catherine Helen \"Carrie\"  female   30      1   \n",
       "889                              Behr, Mr. Karl Howell    male   26      0   \n",
       "890                                Dooley, Mr. Patrick    male   32      0   \n",
       "\n",
       "     Parch            Ticket     Fare Embarked      Survive    Age_Group  \n",
       "0        0         A/5 21171   7.2500        S  Not Survive  Young Adult  \n",
       "1        0          PC 17599  71.2833        C     Survived        Adult  \n",
       "2        0  STON/O2. 3101282   7.9250        S     Survived  Young Adult  \n",
       "3        0            113803  53.1000        S     Survived        Adult  \n",
       "4        0            373450   8.0500        S  Not Survive        Adult  \n",
       "..     ...               ...      ...      ...          ...          ...  \n",
       "886      0            211536  13.0000        S  Not Survive  Young Adult  \n",
       "887      0            112053  30.0000        S     Survived  Young Adult  \n",
       "888      2        W./C. 6607  23.4500        S  Not Survive  Young Adult  \n",
       "889      0            111369  30.0000        C     Survived  Young Adult  \n",
       "890      0            370376   7.7500        Q  Not Survive  Young Adult  \n",
       "\n",
       "[891 rows x 13 columns]"
      ]
     },
     "execution_count": 60,
     "metadata": {},
     "output_type": "execute_result"
    }
   ],
   "source": [
    "df"
   ]
  },
  {
   "cell_type": "code",
   "execution_count": 61,
   "id": "4e4606fb-0ca7-4f7c-afc9-8fe4d6af5ca5",
   "metadata": {},
   "outputs": [
    {
     "data": {
      "text/plain": [
       "179"
      ]
     },
     "execution_count": 61,
     "metadata": {},
     "output_type": "execute_result"
    }
   ],
   "source": [
    "df.Fare.idxmin()"
   ]
  },
  {
   "cell_type": "code",
   "execution_count": 62,
   "id": "0f9a905c-d8bd-4c96-ae9c-5983c206e46b",
   "metadata": {},
   "outputs": [
    {
     "data": {
      "text/plain": [
       "PassengerId                 259\n",
       "Survived                      1\n",
       "Pclass                        1\n",
       "Name           Ward, Miss. Anna\n",
       "Sex                      female\n",
       "Age                          35\n",
       "SibSp                         0\n",
       "Parch                         0\n",
       "Ticket                 PC 17755\n",
       "Fare                   512.3292\n",
       "Embarked                      C\n",
       "Survive                Survived\n",
       "Age_Group                 Adult\n",
       "Name: 258, dtype: object"
      ]
     },
     "execution_count": 62,
     "metadata": {},
     "output_type": "execute_result"
    }
   ],
   "source": [
    "df.loc[258]"
   ]
  },
  {
   "cell_type": "code",
   "execution_count": 63,
   "id": "0426a46c-4845-4236-8a1d-12f6aa11811e",
   "metadata": {},
   "outputs": [
    {
     "data": {
      "text/plain": [
       "PassengerId                    180\n",
       "Survived                         0\n",
       "Pclass                           3\n",
       "Name           Leonard, Mr. Lionel\n",
       "Sex                           male\n",
       "Age                             36\n",
       "SibSp                            0\n",
       "Parch                            0\n",
       "Ticket                        LINE\n",
       "Fare                           0.0\n",
       "Embarked                         S\n",
       "Survive                Not Survive\n",
       "Age_Group                    Adult\n",
       "Name: 179, dtype: object"
      ]
     },
     "execution_count": 63,
     "metadata": {},
     "output_type": "execute_result"
    }
   ],
   "source": [
    "df.loc[179]"
   ]
  },
  {
   "cell_type": "code",
   "execution_count": 64,
   "id": "2667bc7b-6966-4eeb-9658-181c1c0887e2",
   "metadata": {},
   "outputs": [
    {
     "data": {
      "text/plain": [
       "Pclass\n",
       "1    84.154687\n",
       "2    20.662183\n",
       "3    13.675550\n",
       "Name: Fare, dtype: float64"
      ]
     },
     "execution_count": 64,
     "metadata": {},
     "output_type": "execute_result"
    }
   ],
   "source": [
    "df.groupby('Pclass')['Fare'].mean()"
   ]
  },
  {
   "cell_type": "code",
   "execution_count": 65,
   "id": "64153614-7316-4a14-8013-a1026e463e4c",
   "metadata": {},
   "outputs": [
    {
     "data": {
      "text/plain": [
       "258    512.3292\n",
       "737    512.3292\n",
       "679    512.3292\n",
       "88     263.0000\n",
       "27     263.0000\n",
       "         ...   \n",
       "633      0.0000\n",
       "413      0.0000\n",
       "822      0.0000\n",
       "732      0.0000\n",
       "674      0.0000\n",
       "Name: Fare, Length: 891, dtype: float64"
      ]
     },
     "execution_count": 65,
     "metadata": {},
     "output_type": "execute_result"
    }
   ],
   "source": [
    "df['Fare'].sort_values(ascending=False)"
   ]
  },
  {
   "cell_type": "code",
   "execution_count": 66,
   "id": "37dd07f0-8a2e-49a2-addb-00bc78e8d4ae",
   "metadata": {},
   "outputs": [],
   "source": [
    "fare_ =df.sort_values('Fare',ascending= False).head(20)"
   ]
  },
  {
   "cell_type": "code",
   "execution_count": 68,
   "id": "e24924f9-e1b3-4d5d-b15b-ba1a024741fd",
   "metadata": {},
   "outputs": [
    {
     "data": {
      "text/plain": [
       "<Axes: xlabel='Survive', ylabel='count'>"
      ]
     },
     "execution_count": 68,
     "metadata": {},
     "output_type": "execute_result"
    },
    {
     "data": {
      "image/png": "[encoded data removed]",
      "text/plain": [
       "<Figure size 640x480 with 1 Axes>"
      ]
     },
     "metadata": {},
     "output_type": "display_data"
    }
   ],
   "source": [
    "# Visulazation\n",
    "sns.countplot(x='Survive',data=fare_)"
   ]
  },
  {
   "cell_type": "code",
   "execution_count": 69,
   "id": "4cd3f231-ffb4-4857-a79d-f0212e2093c7",
   "metadata": {},
   "outputs": [],
   "source": [
    "fare =df.sort_values('Fare',ascending= False).tail(20)"
   ]
  },
  {
   "cell_type": "code",
   "execution_count": 70,
   "id": "2d05d65e-a135-4d96-8164-95ac321ca11a",
   "metadata": {},
   "outputs": [
    {
     "data": {
      "text/plain": [
       "<Axes: xlabel='Survive', ylabel='count'>"
      ]
     },
     "execution_count": 70,
     "metadata": {},
     "output_type": "execute_result"
    },
    {
     "data": {
      "image/png": "[encoded data removed]",
      "text/plain": [
       "<Figure size 640x480 with 1 Axes>"
      ]
     },
     "metadata": {},
     "output_type": "display_data"
    }
   ],
   "source": [
    "# Visulazation\n",
    "sns.countplot(x='Survive',data=fare)"
   ]
  },
  {
   "cell_type": "code",
   "execution_count": 76,
   "id": "79612461-bf2d-427e-a7f3-6a549fbc3544",
   "metadata": {},
   "outputs": [],
   "source": [
    "pclass_1 =  df.loc[df['Pclass'] == 1 ]\n",
    "pclass_2 =  df.loc[df['Pclass'] == 2 ]\n",
    "pclass_3 =  df.loc[df['Pclass'] == 3 ]"
   ]
  },
  {
   "cell_type": "code",
   "execution_count": 77,
   "id": "1cfb2462-5978-4b87-8cbd-1b760ba50ae2",
   "metadata": {},
   "outputs": [
    {
     "data": {
      "text/html": [
       "<div>\n",
       "<style scoped>\n",
       "    .dataframe tbody tr th:only-of-type {\n",
       "        vertical-align: middle;\n",
       "    }\n",
       "\n",
       "    .dataframe tbody tr th {\n",
       "        vertical-align: top;\n",
       "    }\n",
       "\n",
       "    .dataframe thead th {\n",
       "        text-align: right;\n",
       "    }\n",
       "</style>\n",
       "<table border=\"1\" class=\"dataframe\">\n",
       "  <thead>\n",
       "    <tr style=\"text-align: right;\">\n",
       "      <th></th>\n",
       "      <th>PassengerId</th>\n",
       "      <th>Survived</th>\n",
       "      <th>Pclass</th>\n",
       "      <th>Name</th>\n",
       "      <th>Sex</th>\n",
       "      <th>Age</th>\n",
       "      <th>SibSp</th>\n",
       "      <th>Parch</th>\n",
       "      <th>Ticket</th>\n",
       "      <th>Fare</th>\n",
       "      <th>Embarked</th>\n",
       "      <th>Survive</th>\n",
       "      <th>Age_Group</th>\n",
       "    </tr>\n",
       "  </thead>\n",
       "  <tbody>\n",
       "    <tr>\n",
       "      <th>1</th>\n",
       "      <td>2</td>\n",
       "      <td>1</td>\n",
       "      <td>1</td>\n",
       "      <td>Cumings, Mrs. John Bradley (Florence Briggs Th...</td>\n",
       "      <td>female</td>\n",
       "      <td>38</td>\n",
       "      <td>1</td>\n",
       "      <td>0</td>\n",
       "      <td>PC 17599</td>\n",
       "      <td>71.2833</td>\n",
       "      <td>C</td>\n",
       "      <td>Survived</td>\n",
       "      <td>Adult</td>\n",
       "    </tr>\n",
       "    <tr>\n",
       "      <th>3</th>\n",
       "      <td>4</td>\n",
       "      <td>1</td>\n",
       "      <td>1</td>\n",
       "      <td>Futrelle, Mrs. Jacques Heath (Lily May Peel)</td>\n",
       "      <td>female</td>\n",
       "      <td>35</td>\n",
       "      <td>1</td>\n",
       "      <td>0</td>\n",
       "      <td>113803</td>\n",
       "      <td>53.1000</td>\n",
       "      <td>S</td>\n",
       "      <td>Survived</td>\n",
       "      <td>Adult</td>\n",
       "    </tr>\n",
       "    <tr>\n",
       "      <th>6</th>\n",
       "      <td>7</td>\n",
       "      <td>0</td>\n",
       "      <td>1</td>\n",
       "      <td>McCarthy, Mr. Timothy J</td>\n",
       "      <td>male</td>\n",
       "      <td>54</td>\n",
       "      <td>0</td>\n",
       "      <td>0</td>\n",
       "      <td>17463</td>\n",
       "      <td>51.8625</td>\n",
       "      <td>S</td>\n",
       "      <td>Not Survive</td>\n",
       "      <td>Adult</td>\n",
       "    </tr>\n",
       "    <tr>\n",
       "      <th>11</th>\n",
       "      <td>12</td>\n",
       "      <td>1</td>\n",
       "      <td>1</td>\n",
       "      <td>Bonnell, Miss. Elizabeth</td>\n",
       "      <td>female</td>\n",
       "      <td>58</td>\n",
       "      <td>0</td>\n",
       "      <td>0</td>\n",
       "      <td>113783</td>\n",
       "      <td>26.5500</td>\n",
       "      <td>S</td>\n",
       "      <td>Survived</td>\n",
       "      <td>Adult</td>\n",
       "    </tr>\n",
       "    <tr>\n",
       "      <th>23</th>\n",
       "      <td>24</td>\n",
       "      <td>1</td>\n",
       "      <td>1</td>\n",
       "      <td>Sloper, Mr. William Thompson</td>\n",
       "      <td>male</td>\n",
       "      <td>28</td>\n",
       "      <td>0</td>\n",
       "      <td>0</td>\n",
       "      <td>113788</td>\n",
       "      <td>35.5000</td>\n",
       "      <td>S</td>\n",
       "      <td>Survived</td>\n",
       "      <td>Young Adult</td>\n",
       "    </tr>\n",
       "    <tr>\n",
       "      <th>...</th>\n",
       "      <td>...</td>\n",
       "      <td>...</td>\n",
       "      <td>...</td>\n",
       "      <td>...</td>\n",
       "      <td>...</td>\n",
       "      <td>...</td>\n",
       "      <td>...</td>\n",
       "      <td>...</td>\n",
       "      <td>...</td>\n",
       "      <td>...</td>\n",
       "      <td>...</td>\n",
       "      <td>...</td>\n",
       "      <td>...</td>\n",
       "    </tr>\n",
       "    <tr>\n",
       "      <th>871</th>\n",
       "      <td>872</td>\n",
       "      <td>1</td>\n",
       "      <td>1</td>\n",
       "      <td>Beckwith, Mrs. Richard Leonard (Sallie Monypeny)</td>\n",
       "      <td>female</td>\n",
       "      <td>47</td>\n",
       "      <td>1</td>\n",
       "      <td>1</td>\n",
       "      <td>11751</td>\n",
       "      <td>52.5542</td>\n",
       "      <td>S</td>\n",
       "      <td>Survived</td>\n",
       "      <td>Adult</td>\n",
       "    </tr>\n",
       "    <tr>\n",
       "      <th>872</th>\n",
       "      <td>873</td>\n",
       "      <td>0</td>\n",
       "      <td>1</td>\n",
       "      <td>Carlsson, Mr. Frans Olof</td>\n",
       "      <td>male</td>\n",
       "      <td>33</td>\n",
       "      <td>0</td>\n",
       "      <td>0</td>\n",
       "      <td>695</td>\n",
       "      <td>5.0000</td>\n",
       "      <td>S</td>\n",
       "      <td>Not Survive</td>\n",
       "      <td>Young Adult</td>\n",
       "    </tr>\n",
       "    <tr>\n",
       "      <th>879</th>\n",
       "      <td>880</td>\n",
       "      <td>1</td>\n",
       "      <td>1</td>\n",
       "      <td>Potter, Mrs. Thomas Jr (Lily Alexenia Wilson)</td>\n",
       "      <td>female</td>\n",
       "      <td>56</td>\n",
       "      <td>0</td>\n",
       "      <td>1</td>\n",
       "      <td>11767</td>\n",
       "      <td>83.1583</td>\n",
       "      <td>C</td>\n",
       "      <td>Survived</td>\n",
       "      <td>Adult</td>\n",
       "    </tr>\n",
       "    <tr>\n",
       "      <th>887</th>\n",
       "      <td>888</td>\n",
       "      <td>1</td>\n",
       "      <td>1</td>\n",
       "      <td>Graham, Miss. Margaret Edith</td>\n",
       "      <td>female</td>\n",
       "      <td>19</td>\n",
       "      <td>0</td>\n",
       "      <td>0</td>\n",
       "      <td>112053</td>\n",
       "      <td>30.0000</td>\n",
       "      <td>S</td>\n",
       "      <td>Survived</td>\n",
       "      <td>Young Adult</td>\n",
       "    </tr>\n",
       "    <tr>\n",
       "      <th>889</th>\n",
       "      <td>890</td>\n",
       "      <td>1</td>\n",
       "      <td>1</td>\n",
       "      <td>Behr, Mr. Karl Howell</td>\n",
       "      <td>male</td>\n",
       "      <td>26</td>\n",
       "      <td>0</td>\n",
       "      <td>0</td>\n",
       "      <td>111369</td>\n",
       "      <td>30.0000</td>\n",
       "      <td>C</td>\n",
       "      <td>Survived</td>\n",
       "      <td>Young Adult</td>\n",
       "    </tr>\n",
       "  </tbody>\n",
       "</table>\n",
       "<p>216 rows × 13 columns</p>\n",
       "</div>"
      ],
      "text/plain": [
       "     PassengerId  Survived  Pclass  \\\n",
       "1              2         1       1   \n",
       "3              4         1       1   \n",
       "6              7         0       1   \n",
       "11            12         1       1   \n",
       "23            24         1       1   \n",
       "..           ...       ...     ...   \n",
       "871          872         1       1   \n",
       "872          873         0       1   \n",
       "879          880         1       1   \n",
       "887          888         1       1   \n",
       "889          890         1       1   \n",
       "\n",
       "                                                  Name     Sex  Age  SibSp  \\\n",
       "1    Cumings, Mrs. John Bradley (Florence Briggs Th...  female   38      1   \n",
       "3         Futrelle, Mrs. Jacques Heath (Lily May Peel)  female   35      1   \n",
       "6                              McCarthy, Mr. Timothy J    male   54      0   \n",
       "11                            Bonnell, Miss. Elizabeth  female   58      0   \n",
       "23                        Sloper, Mr. William Thompson    male   28      0   \n",
       "..                                                 ...     ...  ...    ...   \n",
       "871   Beckwith, Mrs. Richard Leonard (Sallie Monypeny)  female   47      1   \n",
       "872                           Carlsson, Mr. Frans Olof    male   33      0   \n",
       "879      Potter, Mrs. Thomas Jr (Lily Alexenia Wilson)  female   56      0   \n",
       "887                       Graham, Miss. Margaret Edith  female   19      0   \n",
       "889                              Behr, Mr. Karl Howell    male   26      0   \n",
       "\n",
       "     Parch    Ticket     Fare Embarked      Survive    Age_Group  \n",
       "1        0  PC 17599  71.2833        C     Survived        Adult  \n",
       "3        0    113803  53.1000        S     Survived        Adult  \n",
       "6        0     17463  51.8625        S  Not Survive        Adult  \n",
       "11       0    113783  26.5500        S     Survived        Adult  \n",
       "23       0    113788  35.5000        S     Survived  Young Adult  \n",
       "..     ...       ...      ...      ...          ...          ...  \n",
       "871      1     11751  52.5542        S     Survived        Adult  \n",
       "872      0       695   5.0000        S  Not Survive  Young Adult  \n",
       "879      1     11767  83.1583        C     Survived        Adult  \n",
       "887      0    112053  30.0000        S     Survived  Young Adult  \n",
       "889      0    111369  30.0000        C     Survived  Young Adult  \n",
       "\n",
       "[216 rows x 13 columns]"
      ]
     },
     "execution_count": 77,
     "metadata": {},
     "output_type": "execute_result"
    }
   ],
   "source": [
    "pclass_1 "
   ]
  },
  {
   "cell_type": "code",
   "execution_count": 86,
   "id": "a3eee107-7fc9-47de-9403-87e4e0e04d0e",
   "metadata": {},
   "outputs": [
    {
     "name": "stdout",
     "output_type": "stream",
     "text": [
      "There are the passegers into the 1 class :  216\n"
     ]
    },
    {
     "data": {
      "text/plain": [
       "Survive\n",
       "Survived       136\n",
       "Not Survive     80\n",
       "Name: count, dtype: int64"
      ]
     },
     "execution_count": 86,
     "metadata": {},
     "output_type": "execute_result"
    }
   ],
   "source": [
    "print('There are the passegers into the 1 class : ',pclass_1['PassengerId'].nunique())\n",
    "pclass_1['Survive'].value_counts()\n"
   ]
  },
  {
   "cell_type": "code",
   "execution_count": 81,
   "id": "cc252ce9-3c1e-4a84-bebf-2f30c6c285ec",
   "metadata": {},
   "outputs": [
    {
     "name": "stdout",
     "output_type": "stream",
     "text": [
      "There are the passegers into the 2 class :  184\n"
     ]
    },
    {
     "data": {
      "text/plain": [
       "Survive\n",
       "Not Survive    97\n",
       "Survived       87\n",
       "Name: count, dtype: int64"
      ]
     },
     "execution_count": 81,
     "metadata": {},
     "output_type": "execute_result"
    }
   ],
   "source": [
    "print('There are the passegers into the 2 class : ',pclass_2['PassengerId'].nunique())\n",
    "pclass_2['Survive'].value_counts()"
   ]
  },
  {
   "cell_type": "code",
   "execution_count": 82,
   "id": "c0cf76d3-44d2-47d5-acd1-b83ef37776c3",
   "metadata": {},
   "outputs": [
    {
     "name": "stdout",
     "output_type": "stream",
     "text": [
      "There are the passegers into the 3 class :  491\n"
     ]
    },
    {
     "data": {
      "text/plain": [
       "Survive\n",
       "Not Survive    372\n",
       "Survived       119\n",
       "Name: count, dtype: int64"
      ]
     },
     "execution_count": 82,
     "metadata": {},
     "output_type": "execute_result"
    }
   ],
   "source": [
    "print('There are the passegers into the 3 class : ',pclass_3['PassengerId'].nunique())\n",
    "pclass_3['Survive'].value_counts()"
   ]
  },
  {
   "cell_type": "code",
   "execution_count": null,
   "id": "3de720d5-7107-4a4a-badc-c20a542e79e8",
   "metadata": {},
   "outputs": [],
   "source": []
  },
  {
   "cell_type": "code",
   "execution_count": 87,
   "id": "b2760247-3661-40c8-af6e-b58fa423c5c5",
   "metadata": {},
   "outputs": [
    {
     "data": {
      "text/plain": [
       "<Axes: xlabel='Pclass', ylabel='count'>"
      ]
     },
     "execution_count": 87,
     "metadata": {},
     "output_type": "execute_result"
    },
    {
     "data": {
      "image/png": "[encoded data removed]",
      "text/plain": [
       "<Figure size 640x480 with 1 Axes>"
      ]
     },
     "metadata": {},
     "output_type": "display_data"
    }
   ],
   "source": [
    "sns.countplot(x='Pclass',hue = 'Sex' ,data=df)"
   ]
  },
  {
   "cell_type": "code",
   "execution_count": null,
   "id": "e6e43bc2-48ab-437a-a10b-03c909c82451",
   "metadata": {},
   "outputs": [],
   "source": []
  }
 ],
 "metadata": {
  "kernelspec": {
   "display_name": "Python 3",
   "language": "python",
   "name": "python3"
  },
  "language_info": {
   "codemirror_mode": {
    "name": "ipython",
    "version": 3
   },
   "file_extension": ".py",
   "mimetype": "text/x-python",
   "name": "python",
   "nbconvert_exporter": "python",
   "pygments_lexer": "ipython3",
   "version": "3.11.7"
  }
 },
 "nbformat": 4,
 "nbformat_minor": 5
}
