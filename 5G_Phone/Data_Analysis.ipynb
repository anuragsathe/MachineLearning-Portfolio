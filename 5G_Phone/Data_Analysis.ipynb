{
 "cells": [
  {
   "cell_type": "code",
   "execution_count": 50,
   "id": "83b0b854",
   "metadata": {},
   "outputs": [],
   "source": [
    "import pandas as pd\n",
    "import numpy as np\n",
    "import matplotlib.pyplot as plt\n",
    "import seaborn as sns\n",
    "import re"
   ]
  },
  {
   "cell_type": "code",
   "execution_count": 51,
   "id": "8891bd33",
   "metadata": {},
   "outputs": [
    {
     "data": {
      "text/html": [
       "<div>\n",
       "<style scoped>\n",
       "    .dataframe tbody tr th:only-of-type {\n",
       "        vertical-align: middle;\n",
       "    }\n",
       "\n",
       "    .dataframe tbody tr th {\n",
       "        vertical-align: top;\n",
       "    }\n",
       "\n",
       "    .dataframe thead th {\n",
       "        text-align: right;\n",
       "    }\n",
       "</style>\n",
       "<table border=\"1\" class=\"dataframe\">\n",
       "  <thead>\n",
       "    <tr style=\"text-align: right;\">\n",
       "      <th></th>\n",
       "      <th>Phone Name</th>\n",
       "      <th>Memory</th>\n",
       "      <th>Display</th>\n",
       "      <th>Camera</th>\n",
       "      <th>Battery</th>\n",
       "      <th>Processor</th>\n",
       "      <th>Warranty</th>\n",
       "      <th>Rating</th>\n",
       "      <th>Discount</th>\n",
       "      <th>Price</th>\n",
       "    </tr>\n",
       "  </thead>\n",
       "  <tbody>\n",
       "    <tr>\n",
       "      <th>1777</th>\n",
       "      <td>Infinix GT 30 Pro 5G+ (Blade White, 256 GB)</td>\n",
       "      <td>12 GB RAM | 256 GB ROM</td>\n",
       "      <td>17.22 cm (6.78 inch) Display</td>\n",
       "      <td>108MP + 8MP | 13MP Front Camera</td>\n",
       "      <td>5500 mAh Battery</td>\n",
       "      <td>Dimensity 8350 Ultimate Processor</td>\n",
       "      <td>1 Year Warranty for Handset and 6 Months Warra...</td>\n",
       "      <td>4.5</td>\n",
       "      <td>22</td>\n",
       "      <td>26999</td>\n",
       "    </tr>\n",
       "    <tr>\n",
       "      <th>1165</th>\n",
       "      <td>Google Pixel 9 (Peony, 256 GB)</td>\n",
       "      <td>12 GB RAM | 256 GB ROM</td>\n",
       "      <td>16.0 cm (6.3 inch) Display</td>\n",
       "      <td>50MP + 48MP | 10.5MP Front Camera</td>\n",
       "      <td>4700 mAh Battery</td>\n",
       "      <td>Google Tensor G4 Processor</td>\n",
       "      <td>1 Year Domestic Warranty</td>\n",
       "      <td>4.6</td>\n",
       "      <td>6% off</td>\n",
       "      <td>₹74,999</td>\n",
       "    </tr>\n",
       "    <tr>\n",
       "      <th>196</th>\n",
       "      <td>OnePlus Nord CE4 (Dark Chrome, 256 GB)</td>\n",
       "      <td>8 GB RAM | 256 GB ROM</td>\n",
       "      <td>17.02 cm (6.7 inch) Display</td>\n",
       "      <td>50MP Rear Camera</td>\n",
       "      <td>5500 mAh Battery</td>\n",
       "      <td>OxygenOS 14.0 Processor</td>\n",
       "      <td>Domestic Warranty 1 Year For Handset And 6 mon...</td>\n",
       "      <td>4.5</td>\n",
       "      <td>13% off</td>\n",
       "      <td>₹23,278</td>\n",
       "    </tr>\n",
       "    <tr>\n",
       "      <th>1566</th>\n",
       "      <td>OnePlus 11 5G (Marble Odyssey, 256 GB)</td>\n",
       "      <td>16 GB RAM | 256 GB ROM</td>\n",
       "      <td>17.02 cm (6.7 inch) Display</td>\n",
       "      <td>50MP Rear Camera</td>\n",
       "      <td>5000 mAh Battery</td>\n",
       "      <td>1 Year Warranty For Phone and 6 Months Warrant...</td>\n",
       "      <td>Not Available</td>\n",
       "      <td>4.5</td>\n",
       "      <td>30</td>\n",
       "      <td>45499</td>\n",
       "    </tr>\n",
       "    <tr>\n",
       "      <th>1253</th>\n",
       "      <td>OnePlus 12 (Glacial White, 256 GB)</td>\n",
       "      <td>12 GB RAM | 256 GB ROM</td>\n",
       "      <td>17.32 cm (6.82 inch) Full HD+ AMOLED Display</td>\n",
       "      <td>50MP Rear Camera</td>\n",
       "      <td>5400 mAh Battery</td>\n",
       "      <td>Qualcomm SM8650-AB Snapdragon 8 Gen 3 (4 nm) P...</td>\n",
       "      <td>1 Year manufacturer warranty for device and 1 ...</td>\n",
       "      <td>4.6</td>\n",
       "      <td>22% off</td>\n",
       "      <td>₹50,444</td>\n",
       "    </tr>\n",
       "  </tbody>\n",
       "</table>\n",
       "</div>"
      ],
      "text/plain": [
       "                                       Phone Name                  Memory  \\\n",
       "1777  Infinix GT 30 Pro 5G+ (Blade White, 256 GB)  12 GB RAM | 256 GB ROM   \n",
       "1165               Google Pixel 9 (Peony, 256 GB)  12 GB RAM | 256 GB ROM   \n",
       "196        OnePlus Nord CE4 (Dark Chrome, 256 GB)   8 GB RAM | 256 GB ROM   \n",
       "1566       OnePlus 11 5G (Marble Odyssey, 256 GB)  16 GB RAM | 256 GB ROM   \n",
       "1253           OnePlus 12 (Glacial White, 256 GB)  12 GB RAM | 256 GB ROM   \n",
       "\n",
       "                                           Display  \\\n",
       "1777                  17.22 cm (6.78 inch) Display   \n",
       "1165                    16.0 cm (6.3 inch) Display   \n",
       "196                    17.02 cm (6.7 inch) Display   \n",
       "1566                   17.02 cm (6.7 inch) Display   \n",
       "1253  17.32 cm (6.82 inch) Full HD+ AMOLED Display   \n",
       "\n",
       "                                 Camera           Battery  \\\n",
       "1777    108MP + 8MP | 13MP Front Camera  5500 mAh Battery   \n",
       "1165  50MP + 48MP | 10.5MP Front Camera  4700 mAh Battery   \n",
       "196                    50MP Rear Camera  5500 mAh Battery   \n",
       "1566                   50MP Rear Camera  5000 mAh Battery   \n",
       "1253                   50MP Rear Camera  5400 mAh Battery   \n",
       "\n",
       "                                              Processor  \\\n",
       "1777                  Dimensity 8350 Ultimate Processor   \n",
       "1165                         Google Tensor G4 Processor   \n",
       "196                             OxygenOS 14.0 Processor   \n",
       "1566  1 Year Warranty For Phone and 6 Months Warrant...   \n",
       "1253  Qualcomm SM8650-AB Snapdragon 8 Gen 3 (4 nm) P...   \n",
       "\n",
       "                                               Warranty Rating Discount  \\\n",
       "1777  1 Year Warranty for Handset and 6 Months Warra...    4.5       22   \n",
       "1165                           1 Year Domestic Warranty    4.6   6% off   \n",
       "196   Domestic Warranty 1 Year For Handset And 6 mon...    4.5  13% off   \n",
       "1566                                      Not Available    4.5       30   \n",
       "1253  1 Year manufacturer warranty for device and 1 ...    4.6  22% off   \n",
       "\n",
       "        Price  \n",
       "1777    26999  \n",
       "1165  ₹74,999  \n",
       "196   ₹23,278  \n",
       "1566    45499  \n",
       "1253  ₹50,444  "
      ]
     },
     "execution_count": 51,
     "metadata": {},
     "output_type": "execute_result"
    }
   ],
   "source": [
    "df = pd.read_csv(\"phone.csv\")\n",
    "\n",
    "df.sample(5)\n"
   ]
  },
  {
   "cell_type": "code",
   "execution_count": 52,
   "id": "675b625d",
   "metadata": {},
   "outputs": [
    {
     "data": {
      "text/plain": [
       "(2040, 10)"
      ]
     },
     "execution_count": 52,
     "metadata": {},
     "output_type": "execute_result"
    }
   ],
   "source": [
    "df.shape"
   ]
  },
  {
   "cell_type": "code",
   "execution_count": 53,
   "id": "8bebca56",
   "metadata": {},
   "outputs": [
    {
     "name": "stdout",
     "output_type": "stream",
     "text": [
      "<class 'pandas.core.frame.DataFrame'>\n",
      "RangeIndex: 2040 entries, 0 to 2039\n",
      "Data columns (total 10 columns):\n",
      " #   Column      Non-Null Count  Dtype \n",
      "---  ------      --------------  ----- \n",
      " 0   Phone Name  2040 non-null   object\n",
      " 1   Memory      2040 non-null   object\n",
      " 2   Display     2040 non-null   object\n",
      " 3   Camera      2039 non-null   object\n",
      " 4   Battery     2040 non-null   object\n",
      " 5   Processor   2040 non-null   object\n",
      " 6   Warranty    2039 non-null   object\n",
      " 7   Rating      2040 non-null   object\n",
      " 8   Discount    2040 non-null   object\n",
      " 9   Price       2040 non-null   object\n",
      "dtypes: object(10)\n",
      "memory usage: 159.5+ KB\n",
      "None\n"
     ]
    }
   ],
   "source": [
    "\n",
    "# Overall info dekho\n",
    "print(df.info())  # Columns, types, null values"
   ]
  },
  {
   "cell_type": "code",
   "execution_count": 54,
   "id": "7e1af211",
   "metadata": {},
   "outputs": [
    {
     "data": {
      "text/html": [
       "<div>\n",
       "<style scoped>\n",
       "    .dataframe tbody tr th:only-of-type {\n",
       "        vertical-align: middle;\n",
       "    }\n",
       "\n",
       "    .dataframe tbody tr th {\n",
       "        vertical-align: top;\n",
       "    }\n",
       "\n",
       "    .dataframe thead th {\n",
       "        text-align: right;\n",
       "    }\n",
       "</style>\n",
       "<table border=\"1\" class=\"dataframe\">\n",
       "  <thead>\n",
       "    <tr style=\"text-align: right;\">\n",
       "      <th></th>\n",
       "      <th>Phone Name</th>\n",
       "      <th>Memory</th>\n",
       "      <th>Display</th>\n",
       "      <th>Camera</th>\n",
       "      <th>Battery</th>\n",
       "      <th>Processor</th>\n",
       "      <th>Warranty</th>\n",
       "      <th>Rating</th>\n",
       "      <th>Discount</th>\n",
       "      <th>Price</th>\n",
       "    </tr>\n",
       "  </thead>\n",
       "  <tbody>\n",
       "    <tr>\n",
       "      <th>count</th>\n",
       "      <td>2040</td>\n",
       "      <td>2040</td>\n",
       "      <td>2040</td>\n",
       "      <td>2039</td>\n",
       "      <td>2040</td>\n",
       "      <td>2040</td>\n",
       "      <td>2039</td>\n",
       "      <td>2040</td>\n",
       "      <td>2040</td>\n",
       "      <td>2040</td>\n",
       "    </tr>\n",
       "    <tr>\n",
       "      <th>unique</th>\n",
       "      <td>1014</td>\n",
       "      <td>58</td>\n",
       "      <td>116</td>\n",
       "      <td>185</td>\n",
       "      <td>118</td>\n",
       "      <td>219</td>\n",
       "      <td>86</td>\n",
       "      <td>21</td>\n",
       "      <td>109</td>\n",
       "      <td>506</td>\n",
       "    </tr>\n",
       "    <tr>\n",
       "      <th>top</th>\n",
       "      <td>Infinix GT 30 Pro 5G+ (Blade White, 256 GB)</td>\n",
       "      <td>12 GB RAM | 256 GB ROM</td>\n",
       "      <td>17.02 cm (6.7 inch) Full HD+ Display</td>\n",
       "      <td>50MP Rear Camera</td>\n",
       "      <td>5000 mAh Battery</td>\n",
       "      <td>1 year warranty for phone and 1 year warranty ...</td>\n",
       "      <td>Not Available</td>\n",
       "      <td>4.4</td>\n",
       "      <td>Not Available</td>\n",
       "      <td>₹11,499</td>\n",
       "    </tr>\n",
       "    <tr>\n",
       "      <th>freq</th>\n",
       "      <td>83</td>\n",
       "      <td>300</td>\n",
       "      <td>147</td>\n",
       "      <td>198</td>\n",
       "      <td>502</td>\n",
       "      <td>155</td>\n",
       "      <td>628</td>\n",
       "      <td>453</td>\n",
       "      <td>109</td>\n",
       "      <td>76</td>\n",
       "    </tr>\n",
       "  </tbody>\n",
       "</table>\n",
       "</div>"
      ],
      "text/plain": [
       "                                         Phone Name                  Memory  \\\n",
       "count                                          2040                    2040   \n",
       "unique                                         1014                      58   \n",
       "top     Infinix GT 30 Pro 5G+ (Blade White, 256 GB)  12 GB RAM | 256 GB ROM   \n",
       "freq                                             83                     300   \n",
       "\n",
       "                                     Display            Camera  \\\n",
       "count                                   2040              2039   \n",
       "unique                                   116               185   \n",
       "top     17.02 cm (6.7 inch) Full HD+ Display  50MP Rear Camera   \n",
       "freq                                     147               198   \n",
       "\n",
       "                 Battery                                          Processor  \\\n",
       "count               2040                                               2040   \n",
       "unique               118                                                219   \n",
       "top     5000 mAh Battery  1 year warranty for phone and 1 year warranty ...   \n",
       "freq                 502                                                155   \n",
       "\n",
       "             Warranty Rating       Discount    Price  \n",
       "count            2039   2040           2040     2040  \n",
       "unique             86     21            109      506  \n",
       "top     Not Available    4.4  Not Available  ₹11,499  \n",
       "freq              628    453            109       76  "
      ]
     },
     "execution_count": 54,
     "metadata": {},
     "output_type": "execute_result"
    }
   ],
   "source": [
    "# Stats dekho\n",
    "df.describe()  # Mean, min, max, std dev, etc"
   ]
  },
  {
   "cell_type": "code",
   "execution_count": 55,
   "id": "dc958b2e",
   "metadata": {},
   "outputs": [],
   "source": [
    "df.drop(['Warranty'], axis=1,inplace=True)"
   ]
  },
  {
   "cell_type": "code",
   "execution_count": 56,
   "id": "c6c68caa",
   "metadata": {},
   "outputs": [
    {
     "data": {
      "text/plain": [
       "(1338, 9)"
      ]
     },
     "execution_count": 56,
     "metadata": {},
     "output_type": "execute_result"
    }
   ],
   "source": [
    "df = df.drop_duplicates().reset_index(drop=True)\n",
    "\n",
    "df.shape\n"
   ]
  },
  {
   "cell_type": "code",
   "execution_count": 57,
   "id": "f80eaeb5",
   "metadata": {},
   "outputs": [],
   "source": [
    "# Step 1: Extract brand name (first word from Phone Name)\n",
    "brands = df['Phone Name'].str.split().str[0]\n",
    "\n",
    "# Step 2: Insert new column at index 0\n",
    "df.insert(1, 'Brand', brands)\n"
   ]
  },
  {
   "cell_type": "code",
   "execution_count": 58,
   "id": "0eadbc98",
   "metadata": {},
   "outputs": [],
   "source": [
    "\n",
    "\n",
    "# Empty lists to store results\n",
    "phone_names = []\n",
    "colors = []\n",
    "\n",
    "for value in df['Phone Name']:\n",
    "    # Match: Phone name (before first bracket), Color (inside first bracket)\n",
    "    match = re.match(r'^(.*?)\\s*\\((.*?),\\s*\\d+\\s*GB\\)', value)\n",
    "    \n",
    "    if match:\n",
    "        phone_name = match.group(1).strip()\n",
    "        color = match.group(2).strip()\n",
    "    else:\n",
    "        # Fallback: If pattern fails\n",
    "        phone_name = value\n",
    "        color = \"Not Available\"\n",
    "    \n",
    "    phone_names.append(phone_name)\n",
    "    colors.append(color)\n",
    "\n",
    "# Insert color at index 1 and name at index 0 (replace if already exists)\n",
    "df.insert(2, 'Color', colors)\n",
    "df['Phone Name'] = phone_names  # Overwrite with clean names\n",
    "\n"
   ]
  },
  {
   "cell_type": "code",
   "execution_count": 59,
   "id": "54052a36",
   "metadata": {},
   "outputs": [],
   "source": [
    "# Create empty lists to store extracted RAM and ROM values\n",
    "ram_list = []\n",
    "rom_list = []\n",
    "\n",
    "# Loop through each value in the 'Memory' column\n",
    "for value in df['Memory']:\n",
    "    # Extract RAM value using regex (e.g., '6 GB RAM' -> 6)\n",
    "    ram_match = re.search(r'(\\d+)\\s*GB RAM', value)\n",
    "    ram = ram_match.group(1) if ram_match else 'NA'\n",
    "    ram_list.append(ram)\n",
    "    \n",
    "    # Extract ROM value using regex (e.g., '128 GB ROM' -> 128)\n",
    "    rom_match = re.search(r'(\\d+)\\s*GB ROM', value)\n",
    "    rom = rom_match.group(1) if rom_match else 'NA'\n",
    "    rom_list.append(rom)\n",
    "\n",
    "# Insert the extracted RAM and ROM values as new columns at index 2 and 3\n",
    "df.insert(3, \"RAM (GB)\", ram_list)\n",
    "df.insert(4, \"ROM (GB)\", rom_list)\n",
    "\n",
    "# Delete the original 'Memory' column since it's now split into RAM and ROM\n",
    "del df['Memory']\n"
   ]
  },
  {
   "cell_type": "code",
   "execution_count": 60,
   "id": "986db935",
   "metadata": {},
   "outputs": [],
   "source": [
    "# Extract display type like Full HD+, HD+, etc.\n",
    "display_types = []\n",
    "for value in df['Display']:\n",
    "    match = re.search(r'\\)\\s*(.*?)\\s*Display', value)\n",
    "    \n",
    "    if match:\n",
    "        disp_type = match.group(1).strip()\n",
    "        if disp_type == \"\":\n",
    "            display_types.append(\"Display\")\n",
    "        else:\n",
    "            display_types.append(disp_type)\n",
    "    else:\n",
    "        display_types.append(\"Display\")  # Default if nothing matched\n",
    "\n",
    "df.insert(5, 'Display Type', display_types)\n",
    "\n",
    "# Extract display size in inches\n",
    "display_inches = []\n",
    "for value in df['Display']:\n",
    "    match = re.search(r'\\((.*?) inch', value)\n",
    "    if match:\n",
    "        display_inches.append(match.group(1).strip())\n",
    "    else:\n",
    "        display_inches.append(\"NA\")\n",
    "\n",
    "df.insert(6, 'Display Size (inches)', display_inches)\n",
    "\n",
    "\n",
    "\n",
    "\n",
    "del df['Display']"
   ]
  },
  {
   "cell_type": "code",
   "execution_count": 61,
   "id": "6dd0b37a",
   "metadata": {},
   "outputs": [],
   "source": [
    "# Create an empty list to store extracted battery capacity values\n",
    "battery_values = []\n",
    "\n",
    "# Loop through each value in the 'Battery' column\n",
    "for value in df['Battery']:\n",
    "    # Use regex to extract 3 to 5 digit battery capacity followed by 'mAh'\n",
    "    match = re.search(r'(\\d{3,5})\\s*mAh', value)\n",
    "    if match:\n",
    "        # If match found, add the numeric value to the list\n",
    "        battery_values.append(match.group(1))\n",
    "    else:\n",
    "        # If no match found, append \"NA\"\n",
    "        battery_values.append(\"NA\")\n",
    "\n",
    "# Insert the extracted battery values as a new column at index 6\n",
    "df.insert(7, 'Battery (mAh)', battery_values)\n",
    "\n",
    "# Delete the original 'Battery' column from the DataFrame\n",
    "del df['Battery']\n"
   ]
  },
  {
   "cell_type": "code",
   "execution_count": 62,
   "id": "295f7dec",
   "metadata": {},
   "outputs": [],
   "source": [
    "# New lists for camera\n",
    "back_cameras = []\n",
    "front_cameras = []\n",
    "\n",
    "for cam in df['Camera']:\n",
    "    if isinstance(cam, str):  # check if value is string\n",
    "        if '|' in cam:\n",
    "            back, front = cam.split('|', 1)\n",
    "            back_cameras.append(back.strip())\n",
    "            front_cameras.append(front.strip())\n",
    "        elif 'Front Camera' in cam:\n",
    "            back_cameras.append('Not Available now')\n",
    "            front_cameras.append(cam.strip())\n",
    "        elif 'Rear Camera' in cam:\n",
    "            back_cameras.append(cam.strip())\n",
    "            front_cameras.append('Not Available now')\n",
    "        else:\n",
    "            back_cameras.append('Not Available now')\n",
    "            front_cameras.append('Not Available now')\n",
    "    else:\n",
    "        # If value is not string (i.e., float or NaN)\n",
    "        back_cameras.append('Not Available now')\n",
    "        front_cameras.append('Not Available now')\n",
    "\n",
    "# Insert into DataFrame at index 7 and 8\n",
    "df.insert(8, 'Back Camera', back_cameras)\n",
    "df.insert(9, 'Front Camera', front_cameras)\n",
    "\n",
    "del df['Camera']\n"
   ]
  },
  {
   "cell_type": "code",
   "execution_count": 63,
   "id": "5e90c1a2",
   "metadata": {},
   "outputs": [],
   "source": [
    "# Remove '%' and 'off', strip spaces\n",
    "df['Discount'] = df['Discount'].str.replace('%', '').str.replace('off', '').str.strip()\n"
   ]
  },
  {
   "cell_type": "code",
   "execution_count": 64,
   "id": "92cb028e",
   "metadata": {},
   "outputs": [
    {
     "name": "stdout",
     "output_type": "stream",
     "text": [
      "int64\n"
     ]
    }
   ],
   "source": [
    "# Step 1: Remove ₹ and commas\n",
    "df['Price'] = df['Price'].str.replace('₹', '').str.replace(',', '').str.strip()\n",
    "\n",
    "# Step 2: Remove rows jisme price missing ya non-numeric ho\n",
    "df = df[df['Price'].str.isnumeric()]\n",
    "\n",
    "# Step 3: Convert to integer\n",
    "df['Price'] = df['Price'].astype(int)\n",
    "\n",
    "print(df['Price'].dtype)\n",
    "\n"
   ]
  },
  {
   "cell_type": "code",
   "execution_count": 65,
   "id": "59cc7dae",
   "metadata": {},
   "outputs": [],
   "source": [
    "# Columns to convert\n",
    "cols_to_convert = ['RAM (GB)', 'ROM (GB)', \n",
    "                   'Display Size (inches)', 'Battery (mAh)', \n",
    "                   'Rating', 'Discount', 'Price']\n",
    "\n",
    "for col in cols_to_convert:\n",
    "    df[col] = pd.to_numeric(df[col], errors='coerce')  # convert to float (auto), invalid → NaN\n"
   ]
  },
  {
   "cell_type": "code",
   "execution_count": 66,
   "id": "24d53a8e",
   "metadata": {},
   "outputs": [
    {
     "data": {
      "text/plain": [
       "(1307, 14)"
      ]
     },
     "execution_count": 66,
     "metadata": {},
     "output_type": "execute_result"
    }
   ],
   "source": [
    "# Keep only rows where 'Price' is greater than or equal to 5000\n",
    "df = df[df['Price'] >= 5000]\n",
    "\n",
    "\n",
    "df.shape"
   ]
  },
  {
   "cell_type": "code",
   "execution_count": 67,
   "id": "5edb527d",
   "metadata": {},
   "outputs": [
    {
     "name": "stdout",
     "output_type": "stream",
     "text": [
      "<class 'pandas.core.frame.DataFrame'>\n",
      "Index: 1307 entries, 0 to 1337\n",
      "Data columns (total 14 columns):\n",
      " #   Column                 Non-Null Count  Dtype  \n",
      "---  ------                 --------------  -----  \n",
      " 0   Phone Name             1307 non-null   object \n",
      " 1   Brand                  1307 non-null   object \n",
      " 2   Color                  1307 non-null   object \n",
      " 3   RAM (GB)               1149 non-null   float64\n",
      " 4   ROM (GB)               1291 non-null   float64\n",
      " 5   Display Type           1307 non-null   object \n",
      " 6   Display Size (inches)  1295 non-null   float64\n",
      " 7   Battery (mAh)          1149 non-null   float64\n",
      " 8   Back Camera            1307 non-null   object \n",
      " 9   Front Camera           1307 non-null   object \n",
      " 10  Processor              1307 non-null   object \n",
      " 11  Rating                 1298 non-null   float64\n",
      " 12  Discount               1214 non-null   float64\n",
      " 13  Price                  1307 non-null   int64  \n",
      "dtypes: float64(6), int64(1), object(7)\n",
      "memory usage: 153.2+ KB\n"
     ]
    }
   ],
   "source": [
    "df.info()"
   ]
  },
  {
   "cell_type": "markdown",
   "id": "8e1efe07",
   "metadata": {},
   "source": [
    "# Which phone brands offer the best average rating?"
   ]
  },
  {
   "cell_type": "code",
   "execution_count": 68,
   "id": "098dd103",
   "metadata": {},
   "outputs": [
    {
     "data": {
      "text/plain": [
       "Brand\n",
       "Apple      4.600649\n",
       "IQOO       4.471429\n",
       "vivo       4.456376\n",
       "LG         4.450000\n",
       "Nothing    4.430769\n",
       "OPPO       4.430000\n",
       "Name: Rating, dtype: float64"
      ]
     },
     "execution_count": 68,
     "metadata": {},
     "output_type": "execute_result"
    }
   ],
   "source": [
    "brand_avg_rating = df.groupby('Brand')['Rating'].mean().sort_values(ascending=False)\n",
    "brand_avg_rating.head(6)"
   ]
  },
  {
   "cell_type": "markdown",
   "id": "749871e4",
   "metadata": {},
   "source": [
    "\n",
    "**🔍 Brand-wise average ratings:**\n",
    "\n",
    "* **Apple** has the **highest average rating (4.60)**.\n",
    "* **IQOO**, **vivo**, and **LG** also have **strong user ratings**.\n",
    "* **OPPO** and **Nothing** follow closely with **good overall satisfaction**.\n",
    "\n",
    "✅ So, **Apple** leads in user satisfaction, with others not far behind.\n"
   ]
  },
  {
   "cell_type": "markdown",
   "id": "954fa90a",
   "metadata": {},
   "source": [
    "### Visualization"
   ]
  },
  {
   "cell_type": "code",
   "execution_count": 69,
   "id": "e37379d0",
   "metadata": {},
   "outputs": [
    {
     "data": {
      "image/png": "[encoded data removed]",
      "text/plain": [
       "<Figure size 640x480 with 1 Axes>"
      ]
     },
     "metadata": {},
     "output_type": "display_data"
    }
   ],
   "source": [
    "brand_avg_rating.head(10).plot(kind='bar',color='skyblue')\n",
    "plt.title('Top 10 Brands by Average Rating')\n",
    "plt.ylabel(\"Average Rating\")\n",
    "plt.xlabel(\"Brand\")\n",
    "plt.xticks(rotation=45)\n",
    "plt.show()"
   ]
  },
  {
   "cell_type": "code",
   "execution_count": 70,
   "id": "fa187da3",
   "metadata": {},
   "outputs": [
    {
     "name": "stdout",
     "output_type": "stream",
     "text": [
      "Total unique brands: 28\n"
     ]
    }
   ],
   "source": [
    "num_brands = df['Brand'].nunique()\n",
    "print(\"Total unique brands:\", num_brands)\n"
   ]
  },
  {
   "cell_type": "markdown",
   "id": "d33986b3",
   "metadata": {},
   "source": [
    "# How does price relate to RAM, ROM, and battery size?"
   ]
  },
  {
   "cell_type": "code",
   "execution_count": 71,
   "id": "57b66e6f",
   "metadata": {},
   "outputs": [
    {
     "data": {
      "text/html": [
       "<div>\n",
       "<style scoped>\n",
       "    .dataframe tbody tr th:only-of-type {\n",
       "        vertical-align: middle;\n",
       "    }\n",
       "\n",
       "    .dataframe tbody tr th {\n",
       "        vertical-align: top;\n",
       "    }\n",
       "\n",
       "    .dataframe thead th {\n",
       "        text-align: right;\n",
       "    }\n",
       "</style>\n",
       "<table border=\"1\" class=\"dataframe\">\n",
       "  <thead>\n",
       "    <tr style=\"text-align: right;\">\n",
       "      <th></th>\n",
       "      <th>Price</th>\n",
       "      <th>RAM (GB)</th>\n",
       "      <th>ROM (GB)</th>\n",
       "      <th>Battery (mAh)</th>\n",
       "    </tr>\n",
       "  </thead>\n",
       "  <tbody>\n",
       "    <tr>\n",
       "      <th>Price</th>\n",
       "      <td>1.000000</td>\n",
       "      <td>0.186921</td>\n",
       "      <td>0.510493</td>\n",
       "      <td>-0.228505</td>\n",
       "    </tr>\n",
       "    <tr>\n",
       "      <th>RAM (GB)</th>\n",
       "      <td>0.186921</td>\n",
       "      <td>1.000000</td>\n",
       "      <td>0.252102</td>\n",
       "      <td>0.023645</td>\n",
       "    </tr>\n",
       "    <tr>\n",
       "      <th>ROM (GB)</th>\n",
       "      <td>0.510493</td>\n",
       "      <td>0.252102</td>\n",
       "      <td>1.000000</td>\n",
       "      <td>0.040620</td>\n",
       "    </tr>\n",
       "    <tr>\n",
       "      <th>Battery (mAh)</th>\n",
       "      <td>-0.228505</td>\n",
       "      <td>0.023645</td>\n",
       "      <td>0.040620</td>\n",
       "      <td>1.000000</td>\n",
       "    </tr>\n",
       "  </tbody>\n",
       "</table>\n",
       "</div>"
      ],
      "text/plain": [
       "                  Price  RAM (GB)  ROM (GB)  Battery (mAh)\n",
       "Price          1.000000  0.186921  0.510493      -0.228505\n",
       "RAM (GB)       0.186921  1.000000  0.252102       0.023645\n",
       "ROM (GB)       0.510493  0.252102  1.000000       0.040620\n",
       "Battery (mAh) -0.228505  0.023645  0.040620       1.000000"
      ]
     },
     "execution_count": 71,
     "metadata": {},
     "output_type": "execute_result"
    }
   ],
   "source": [
    "correlation = df[['Price','RAM (GB)', 'ROM (GB)','Battery (mAh)']].corr()\n",
    "correlation"
   ]
  },
  {
   "cell_type": "markdown",
   "id": "f1ea91ce",
   "metadata": {},
   "source": [
    "\n",
    "\n",
    "**📊 Price vs RAM, ROM, Battery:**\n",
    "\n",
    "* **ROM** has the **strongest link** with price — more storage, higher cost.\n",
    "* **RAM** has a **weak relation** with price.\n",
    "* **Battery size** has **no clear impact** on price — in fact, slightly negative.\n",
    "\n",
    "✅ So, **storage affects price the most**, not RAM or battery.\n"
   ]
  },
  {
   "cell_type": "markdown",
   "id": "cd0fdf3f",
   "metadata": {},
   "source": [
    "# Which display type is most common in budget vs premium phones?"
   ]
  },
  {
   "cell_type": "code",
   "execution_count": 72,
   "id": "1d5f895d",
   "metadata": {},
   "outputs": [
    {
     "name": "stdout",
     "output_type": "stream",
     "text": [
      "📱 Budget Phones - Most Common Display Types:\n",
      "Display Type\n",
      "Full HD+    97\n",
      "HD+         94\n",
      "Display     68\n",
      "Full HD      5\n",
      "HD           3\n",
      "Name: count, dtype: int64\n",
      "\n",
      "💎 Premium Phones - Most Common Display Types:\n",
      "Display Type\n",
      "Full HD+            257\n",
      "Display             255\n",
      "Super Retina XDR    134\n",
      "Quad HD+             35\n",
      "Full HD+ AMOLED      35\n",
      "Retina HD            14\n",
      "Name: count, dtype: int64\n"
     ]
    }
   ],
   "source": [
    "# Step 1: Define budget and premium ranges (example values, adjust if needed)\n",
    "\n",
    "budget_phone = df[df['Price'] <= 15000]\n",
    "premium_phone = df[df['Price'] > 25000]\n",
    "\n",
    "# Step 2: Count display types\n",
    "\n",
    "budget_display_counts = budget_phone['Display Type'].value_counts()\n",
    "premium_display_counts = premium_phone['Display Type'].value_counts()\n",
    "\n",
    "# Step 3: Show results\n",
    "print(\"📱 Budget Phones - Most Common Display Types:\")\n",
    "print(budget_display_counts.head())\n",
    "\n",
    "print(\"\\n💎 Premium Phones - Most Common Display Types:\")\n",
    "print(premium_display_counts.head(6))"
   ]
  },
  {
   "cell_type": "markdown",
   "id": "05536764",
   "metadata": {},
   "source": [
    "\n",
    "\n",
    "**🎯 Display types – Budget vs Premium phones:**\n",
    "\n",
    "* **Budget phones** mostly use **Full HD+** and **HD+** displays.\n",
    "* **Premium phones** use **Full HD+**, **Super Retina XDR**, and **Quad HD+** for better visuals.\n",
    "* **Advanced display tech** is more common in higher-priced phones.\n",
    "\n",
    "✅ So, as price increases, **display quality clearly improves**.\n"
   ]
  },
  {
   "cell_type": "markdown",
   "id": "828189af",
   "metadata": {},
   "source": [
    "# Which processor types are used in top-rated phones?"
   ]
  },
  {
   "cell_type": "code",
   "execution_count": 73,
   "id": "10b84199",
   "metadata": {},
   "outputs": [
    {
     "data": {
      "text/plain": [
       "Processor\n",
       "1 year warranty for phone and 1 year warranty for in Box Accessories.    134\n",
       "7 Gen 3 Processor                                                         24\n",
       "Qualcomm Snapdragon 8 Gen 2 Processor                                     18\n",
       "Google Tensor G4 Processor                                                16\n",
       "Exynos 2400 Processor                                                     14\n",
       "Name: count, dtype: int64"
      ]
     },
     "execution_count": 73,
     "metadata": {},
     "output_type": "execute_result"
    }
   ],
   "source": [
    "# Step 1: Define the rating threshold (e.g., top-rated means 4.5 or more)\n",
    "top_rated = df[df['Rating'] >= 4.5]\n",
    "\n",
    "# Step 2: Count processor types in top-rated phones\n",
    "top_processors = top_rated['Processor'].value_counts()\n",
    "\n",
    "# Step 3: Show result\n",
    "top_processors.head()"
   ]
  },
  {
   "cell_type": "markdown",
   "id": "6152ec5b",
   "metadata": {},
   "source": [
    "\n",
    "**🔍 Processors in top-rated phones:**\n",
    "\n",
    "* **7 Gen 3** and **Snapdragon 8 Gen 2** are the most used in top-rated phones.\n",
    "* **Google Tensor G4** and **Exynos 2400** also show strong user satisfaction.\n",
    "* Overall, **Snapdragon and Tensor** chips are common in highly rated phones.\n",
    "\n",
    "✅ So, **Snapdragon** and **Tensor** processors are linked with better ratings.\n"
   ]
  },
  {
   "cell_type": "markdown",
   "id": "3f1ee169",
   "metadata": {},
   "source": [
    "# Which display types are most popular with higher ratings?"
   ]
  },
  {
   "cell_type": "code",
   "execution_count": 74,
   "id": "4e07d5c9",
   "metadata": {},
   "outputs": [
    {
     "data": {
      "text/plain": [
       "Display Type\n",
       "Display                     145\n",
       "Super Retina XDR            134\n",
       "Full HD+                     99\n",
       "Quad HD+                     30\n",
       "Full HD+ AMOLED              25\n",
       "Full HD+ E3 Super AMOLED     11\n",
       "Name: count, dtype: int64"
      ]
     },
     "execution_count": 74,
     "metadata": {},
     "output_type": "execute_result"
    }
   ],
   "source": [
    "\n",
    "#  Count Display types in top-rated phones\n",
    "top_display_type = top_rated['Display Type'].value_counts()\n",
    "\n",
    "top_display_type.head(6)"
   ]
  },
  {
   "cell_type": "markdown",
   "id": "8f88cb91",
   "metadata": {},
   "source": [
    "\n",
    "\n",
    "* **Super Retina XDR** and **Full HD+** displays are most common in **top-rated phones**.\n",
    "* Displays like **Quad HD+** and **AMOLED** are also liked by users.\n",
    "* Better displays = **better ratings**.\n"
   ]
  },
  {
   "cell_type": "markdown",
   "id": "631fb4bb",
   "metadata": {},
   "source": [
    "# Is there any relationship between display size and price or rating?\n",
    "\n"
   ]
  },
  {
   "cell_type": "code",
   "execution_count": 75,
   "id": "fb2b681e",
   "metadata": {},
   "outputs": [
    {
     "data": {
      "text/html": [
       "<div>\n",
       "<style scoped>\n",
       "    .dataframe tbody tr th:only-of-type {\n",
       "        vertical-align: middle;\n",
       "    }\n",
       "\n",
       "    .dataframe tbody tr th {\n",
       "        vertical-align: top;\n",
       "    }\n",
       "\n",
       "    .dataframe thead th {\n",
       "        text-align: right;\n",
       "    }\n",
       "</style>\n",
       "<table border=\"1\" class=\"dataframe\">\n",
       "  <thead>\n",
       "    <tr style=\"text-align: right;\">\n",
       "      <th></th>\n",
       "      <th>Display Size (inches)</th>\n",
       "      <th>Price</th>\n",
       "      <th>Rating</th>\n",
       "    </tr>\n",
       "  </thead>\n",
       "  <tbody>\n",
       "    <tr>\n",
       "      <th>Display Size (inches)</th>\n",
       "      <td>1.000000</td>\n",
       "      <td>-0.159427</td>\n",
       "      <td>-0.236993</td>\n",
       "    </tr>\n",
       "    <tr>\n",
       "      <th>Price</th>\n",
       "      <td>-0.159427</td>\n",
       "      <td>1.000000</td>\n",
       "      <td>0.384594</td>\n",
       "    </tr>\n",
       "    <tr>\n",
       "      <th>Rating</th>\n",
       "      <td>-0.236993</td>\n",
       "      <td>0.384594</td>\n",
       "      <td>1.000000</td>\n",
       "    </tr>\n",
       "  </tbody>\n",
       "</table>\n",
       "</div>"
      ],
      "text/plain": [
       "                       Display Size (inches)     Price    Rating\n",
       "Display Size (inches)               1.000000 -0.159427 -0.236993\n",
       "Price                              -0.159427  1.000000  0.384594\n",
       "Rating                             -0.236993  0.384594  1.000000"
      ]
     },
     "execution_count": 75,
     "metadata": {},
     "output_type": "execute_result"
    }
   ],
   "source": [
    "# Correlation check\n",
    "df[['Display Size (inches)', 'Price', 'Rating']].corr()\n"
   ]
  },
  {
   "cell_type": "markdown",
   "id": "ebffed14",
   "metadata": {},
   "source": [
    "\n",
    "* Bigger display **doesn’t mean higher price or better rating**.\n",
    "* Phones with higher price usually have **better user ratings**.\n",
    "* Display size and rating have **no strong link**.\n"
   ]
  },
  {
   "cell_type": "markdown",
   "id": "57847600",
   "metadata": {},
   "source": [
    "# Which phones give the highest discount?\n",
    "\n"
   ]
  },
  {
   "cell_type": "code",
   "execution_count": 76,
   "id": "bbf94aa9",
   "metadata": {},
   "outputs": [
    {
     "data": {
      "text/html": [
       "<div>\n",
       "<style scoped>\n",
       "    .dataframe tbody tr th:only-of-type {\n",
       "        vertical-align: middle;\n",
       "    }\n",
       "\n",
       "    .dataframe tbody tr th {\n",
       "        vertical-align: top;\n",
       "    }\n",
       "\n",
       "    .dataframe thead th {\n",
       "        text-align: right;\n",
       "    }\n",
       "</style>\n",
       "<table border=\"1\" class=\"dataframe\">\n",
       "  <thead>\n",
       "    <tr style=\"text-align: right;\">\n",
       "      <th></th>\n",
       "      <th>Phone Name</th>\n",
       "      <th>Brand</th>\n",
       "      <th>Discount</th>\n",
       "      <th>Price</th>\n",
       "    </tr>\n",
       "  </thead>\n",
       "  <tbody>\n",
       "    <tr>\n",
       "      <th>1206</th>\n",
       "      <td>Samsung Galaxy S22 Plus 5G</td>\n",
       "      <td>Samsung</td>\n",
       "      <td>59.0</td>\n",
       "      <td>41490</td>\n",
       "    </tr>\n",
       "    <tr>\n",
       "      <th>459</th>\n",
       "      <td>Samsung Galaxy S23 FE</td>\n",
       "      <td>Samsung</td>\n",
       "      <td>56.0</td>\n",
       "      <td>34999</td>\n",
       "    </tr>\n",
       "    <tr>\n",
       "      <th>1159</th>\n",
       "      <td>Samsung Galaxy S23 FE</td>\n",
       "      <td>Samsung</td>\n",
       "      <td>56.0</td>\n",
       "      <td>34999</td>\n",
       "    </tr>\n",
       "    <tr>\n",
       "      <th>1250</th>\n",
       "      <td>MOTOROLA razr 40</td>\n",
       "      <td>MOTOROLA</td>\n",
       "      <td>55.0</td>\n",
       "      <td>44999</td>\n",
       "    </tr>\n",
       "    <tr>\n",
       "      <th>911</th>\n",
       "      <td>MOTOROLA Razar 40</td>\n",
       "      <td>MOTOROLA</td>\n",
       "      <td>55.0</td>\n",
       "      <td>44999</td>\n",
       "    </tr>\n",
       "    <tr>\n",
       "      <th>922</th>\n",
       "      <td>Samsung Galaxy S23 FE</td>\n",
       "      <td>Samsung</td>\n",
       "      <td>55.0</td>\n",
       "      <td>37999</td>\n",
       "    </tr>\n",
       "    <tr>\n",
       "      <th>934</th>\n",
       "      <td>MOTOROLA razr 40</td>\n",
       "      <td>MOTOROLA</td>\n",
       "      <td>54.0</td>\n",
       "      <td>45999</td>\n",
       "    </tr>\n",
       "    <tr>\n",
       "      <th>325</th>\n",
       "      <td>Xiaomi 11T Pro 5G Hyperphone</td>\n",
       "      <td>Xiaomi</td>\n",
       "      <td>54.0</td>\n",
       "      <td>23999</td>\n",
       "    </tr>\n",
       "    <tr>\n",
       "      <th>1215</th>\n",
       "      <td>Samsung S23 FE</td>\n",
       "      <td>Samsung</td>\n",
       "      <td>53.0</td>\n",
       "      <td>36990</td>\n",
       "    </tr>\n",
       "    <tr>\n",
       "      <th>22</th>\n",
       "      <td>OPPO Reno 12 5G</td>\n",
       "      <td>OPPO</td>\n",
       "      <td>52.0</td>\n",
       "      <td>20999</td>\n",
       "    </tr>\n",
       "  </tbody>\n",
       "</table>\n",
       "</div>"
      ],
      "text/plain": [
       "                        Phone Name     Brand  Discount  Price\n",
       "1206    Samsung Galaxy S22 Plus 5G   Samsung      59.0  41490\n",
       "459          Samsung Galaxy S23 FE   Samsung      56.0  34999\n",
       "1159         Samsung Galaxy S23 FE   Samsung      56.0  34999\n",
       "1250              MOTOROLA razr 40  MOTOROLA      55.0  44999\n",
       "911              MOTOROLA Razar 40  MOTOROLA      55.0  44999\n",
       "922          Samsung Galaxy S23 FE   Samsung      55.0  37999\n",
       "934               MOTOROLA razr 40  MOTOROLA      54.0  45999\n",
       "325   Xiaomi 11T Pro 5G Hyperphone    Xiaomi      54.0  23999\n",
       "1215                Samsung S23 FE   Samsung      53.0  36990\n",
       "22                 OPPO Reno 12 5G      OPPO      52.0  20999"
      ]
     },
     "execution_count": 76,
     "metadata": {},
     "output_type": "execute_result"
    }
   ],
   "source": [
    "# Top 10 phones with highest discount\n",
    "top_discount = df.sort_values(by='Discount',ascending=False)[['Phone Name', 'Brand', 'Discount', 'Price']].head(10)\n",
    "\n",
    "top_discount "
   ]
  },
  {
   "cell_type": "code",
   "execution_count": 77,
   "id": "d8792638",
   "metadata": {},
   "outputs": [
    {
     "data": {
      "text/plain": [
       "Brand\n",
       "Samsung     5\n",
       "MOTOROLA    3\n",
       "Xiaomi      1\n",
       "OPPO        1\n",
       "Name: count, dtype: int64"
      ]
     },
     "execution_count": 77,
     "metadata": {},
     "output_type": "execute_result"
    }
   ],
   "source": [
    "top_discount['Brand'].value_counts().head()"
   ]
  },
  {
   "cell_type": "markdown",
   "id": "68fe7976",
   "metadata": {},
   "source": [
    "\n",
    "\n",
    "**💸 Phones with highest discounts:**\n",
    "\n",
    "* **Samsung Galaxy S22 Plus** offers the **biggest discount (59%)**.\n",
    "* **Samsung** and **Motorola** dominate the top discounted list with **55%+ deals**.\n",
    "* **Xiaomi** and **OPPO** also offer strong discounts above **50%**.\n",
    "\n",
    "✅ So, **Samsung and Motorola** give the highest discounts on premium phones.\n"
   ]
  },
  {
   "cell_type": "markdown",
   "id": "0ce11f85",
   "metadata": {},
   "source": [
    "# Which brand offers best features under ₹15,000?\n",
    "\n"
   ]
  },
  {
   "cell_type": "code",
   "execution_count": 78,
   "id": "848b386c",
   "metadata": {},
   "outputs": [
    {
     "data": {
      "text/html": [
       "<div>\n",
       "<style scoped>\n",
       "    .dataframe tbody tr th:only-of-type {\n",
       "        vertical-align: middle;\n",
       "    }\n",
       "\n",
       "    .dataframe tbody tr th {\n",
       "        vertical-align: top;\n",
       "    }\n",
       "\n",
       "    .dataframe thead th {\n",
       "        text-align: right;\n",
       "    }\n",
       "</style>\n",
       "<table border=\"1\" class=\"dataframe\">\n",
       "  <thead>\n",
       "    <tr style=\"text-align: right;\">\n",
       "      <th></th>\n",
       "      <th>RAM (GB)</th>\n",
       "      <th>ROM (GB)</th>\n",
       "      <th>Battery (mAh)</th>\n",
       "      <th>Rating</th>\n",
       "    </tr>\n",
       "    <tr>\n",
       "      <th>Brand</th>\n",
       "      <th></th>\n",
       "      <th></th>\n",
       "      <th></th>\n",
       "      <th></th>\n",
       "    </tr>\n",
       "  </thead>\n",
       "  <tbody>\n",
       "    <tr>\n",
       "      <th>OPPO</th>\n",
       "      <td>4.857143</td>\n",
       "      <td>109.714286</td>\n",
       "      <td>5357.142857</td>\n",
       "      <td>4.500000</td>\n",
       "    </tr>\n",
       "    <tr>\n",
       "      <th>OnePlus</th>\n",
       "      <td>8.000000</td>\n",
       "      <td>170.666667</td>\n",
       "      <td>5000.000000</td>\n",
       "      <td>4.400000</td>\n",
       "    </tr>\n",
       "    <tr>\n",
       "      <th>vivo</th>\n",
       "      <td>5.120000</td>\n",
       "      <td>122.880000</td>\n",
       "      <td>5460.000000</td>\n",
       "      <td>4.396000</td>\n",
       "    </tr>\n",
       "    <tr>\n",
       "      <th>IQOO</th>\n",
       "      <td>5.714286</td>\n",
       "      <td>128.000000</td>\n",
       "      <td>5714.285714</td>\n",
       "      <td>4.328571</td>\n",
       "    </tr>\n",
       "    <tr>\n",
       "      <th>realme</th>\n",
       "      <td>5.843137</td>\n",
       "      <td>128.000000</td>\n",
       "      <td>5313.725490</td>\n",
       "      <td>4.323529</td>\n",
       "    </tr>\n",
       "  </tbody>\n",
       "</table>\n",
       "</div>"
      ],
      "text/plain": [
       "         RAM (GB)    ROM (GB)  Battery (mAh)    Rating\n",
       "Brand                                                 \n",
       "OPPO     4.857143  109.714286    5357.142857  4.500000\n",
       "OnePlus  8.000000  170.666667    5000.000000  4.400000\n",
       "vivo     5.120000  122.880000    5460.000000  4.396000\n",
       "IQOO     5.714286  128.000000    5714.285714  4.328571\n",
       "realme   5.843137  128.000000    5313.725490  4.323529"
      ]
     },
     "execution_count": 78,
     "metadata": {},
     "output_type": "execute_result"
    }
   ],
   "source": [
    "# Filter phones under ₹15,000\n",
    "budget_phones = df[df['Price'] <= 15000]\n",
    "\n",
    "# Group by brand and calculate average features\n",
    "\n",
    "best_budget_brands = budget_phone.groupby('Brand')[[ 'RAM (GB)', 'ROM (GB)', 'Battery (mAh)','Rating']].mean().sort_values(by='Rating',ascending=False)\n",
    "\n",
    "best_budget_brands.head(5)"
   ]
  },
  {
   "cell_type": "markdown",
   "id": "b136308f",
   "metadata": {},
   "source": [
    "\n",
    "**🔍 Best brands under ₹15,000:**\n",
    "\n",
    "* **OPPO** has the **highest rating (4.5)** but offers lower RAM.\n",
    "* **OnePlus** gives the **most RAM (8 GB)** and good storage.\n",
    "* **vivo** and **realme** are **well-balanced** in battery, rating, and specs.\n",
    "* **IQOO** has the **largest battery** among all.\n",
    "\n",
    "✅ So, **OPPO** is best for rating, **vivo/realme** for overall balance.\n"
   ]
  },
  {
   "cell_type": "markdown",
   "id": "a4b43d56",
   "metadata": {},
   "source": [
    "# Which color variants are most common or popular across brands?\n",
    "\n"
   ]
  },
  {
   "cell_type": "code",
   "execution_count": 79,
   "id": "bcd0f6c5",
   "metadata": {},
   "outputs": [
    {
     "data": {
      "text/plain": [
       "Color\n",
       "Black       39\n",
       "Blue        24\n",
       "Yellow      23\n",
       "Obsidian    21\n",
       "Green       18\n",
       "Name: count, dtype: int64"
      ]
     },
     "execution_count": 79,
     "metadata": {},
     "output_type": "execute_result"
    }
   ],
   "source": [
    "# Count overall most common colors\n",
    "common_colors = df['Color'].value_counts()\n",
    "\n",
    "common_colors.head()"
   ]
  },
  {
   "cell_type": "markdown",
   "id": "7fd64c96",
   "metadata": {},
   "source": [
    "\n",
    "\n",
    "**🎨 Most popular phone colors:**\n",
    "\n",
    "* **Black** is the most common color across brands.\n",
    "* **Blue**, **Yellow**, and **Obsidian** are also popular.\n",
    "* **Green** is less common but still trendy.\n",
    "\n",
    "✅ So yes, **Black** leads the color trend.\n"
   ]
  },
  {
   "cell_type": "markdown",
   "id": "11b074e6",
   "metadata": {},
   "source": [
    "# Is higher price really giving better rating?\n",
    "\n"
   ]
  },
  {
   "cell_type": "code",
   "execution_count": 80,
   "id": "c8cebd37",
   "metadata": {},
   "outputs": [
    {
     "data": {
      "text/html": [
       "<div>\n",
       "<style scoped>\n",
       "    .dataframe tbody tr th:only-of-type {\n",
       "        vertical-align: middle;\n",
       "    }\n",
       "\n",
       "    .dataframe tbody tr th {\n",
       "        vertical-align: top;\n",
       "    }\n",
       "\n",
       "    .dataframe thead th {\n",
       "        text-align: right;\n",
       "    }\n",
       "</style>\n",
       "<table border=\"1\" class=\"dataframe\">\n",
       "  <thead>\n",
       "    <tr style=\"text-align: right;\">\n",
       "      <th></th>\n",
       "      <th>Rating</th>\n",
       "      <th>Price</th>\n",
       "    </tr>\n",
       "  </thead>\n",
       "  <tbody>\n",
       "    <tr>\n",
       "      <th>Rating</th>\n",
       "      <td>1.000000</td>\n",
       "      <td>0.384594</td>\n",
       "    </tr>\n",
       "    <tr>\n",
       "      <th>Price</th>\n",
       "      <td>0.384594</td>\n",
       "      <td>1.000000</td>\n",
       "    </tr>\n",
       "  </tbody>\n",
       "</table>\n",
       "</div>"
      ],
      "text/plain": [
       "          Rating     Price\n",
       "Rating  1.000000  0.384594\n",
       "Price   0.384594  1.000000"
      ]
     },
     "execution_count": 80,
     "metadata": {},
     "output_type": "execute_result"
    }
   ],
   "source": [
    "df[['Rating',  'Price']].corr()"
   ]
  },
  {
   "cell_type": "markdown",
   "id": "c41ba67a",
   "metadata": {},
   "source": [
    "\n",
    "**📈 Price vs Rating:**\n",
    "\n",
    "* There’s a **mild positive link** (0.38) — higher price phones **usually** get better ratings.\n",
    "* But it’s **not a strong rule** — some budget phones also perform well.\n",
    "\n",
    "✅ So, **expensive phones often rate better**, but not always.\n"
   ]
  },
  {
   "cell_type": "markdown",
   "id": "edb8bbd3",
   "metadata": {},
   "source": [
    "# Which phones give the best features at the lowest price?\n",
    "\n"
   ]
  },
  {
   "cell_type": "code",
   "execution_count": 81,
   "id": "509034d1",
   "metadata": {},
   "outputs": [
    {
     "data": {
      "text/html": [
       "<div>\n",
       "<style scoped>\n",
       "    .dataframe tbody tr th:only-of-type {\n",
       "        vertical-align: middle;\n",
       "    }\n",
       "\n",
       "    .dataframe tbody tr th {\n",
       "        vertical-align: top;\n",
       "    }\n",
       "\n",
       "    .dataframe thead th {\n",
       "        text-align: right;\n",
       "    }\n",
       "</style>\n",
       "<table border=\"1\" class=\"dataframe\">\n",
       "  <thead>\n",
       "    <tr style=\"text-align: right;\">\n",
       "      <th></th>\n",
       "      <th>Phone Name</th>\n",
       "      <th>Brand</th>\n",
       "      <th>Color</th>\n",
       "      <th>RAM (GB)</th>\n",
       "      <th>ROM (GB)</th>\n",
       "      <th>Display Type</th>\n",
       "      <th>Display Size (inches)</th>\n",
       "      <th>Battery (mAh)</th>\n",
       "      <th>Back Camera</th>\n",
       "      <th>Front Camera</th>\n",
       "      <th>Processor</th>\n",
       "      <th>Rating</th>\n",
       "      <th>Discount</th>\n",
       "      <th>Price</th>\n",
       "    </tr>\n",
       "  </thead>\n",
       "  <tbody>\n",
       "    <tr>\n",
       "      <th>433</th>\n",
       "      <td>OPPO A5x 5G</td>\n",
       "      <td>OPPO</td>\n",
       "      <td>Laser White</td>\n",
       "      <td>4.0</td>\n",
       "      <td>128.0</td>\n",
       "      <td>Display</td>\n",
       "      <td>6.67</td>\n",
       "      <td>6000.0</td>\n",
       "      <td>32MP Rear Camera</td>\n",
       "      <td>Not Available now</td>\n",
       "      <td>Dimensity 6300 Processor</td>\n",
       "      <td>4.8</td>\n",
       "      <td>23.0</td>\n",
       "      <td>12999</td>\n",
       "    </tr>\n",
       "    <tr>\n",
       "      <th>434</th>\n",
       "      <td>OPPO A5x 5G</td>\n",
       "      <td>OPPO</td>\n",
       "      <td>Midnight Blue</td>\n",
       "      <td>4.0</td>\n",
       "      <td>128.0</td>\n",
       "      <td>Display</td>\n",
       "      <td>6.67</td>\n",
       "      <td>6000.0</td>\n",
       "      <td>32MP Rear Camera</td>\n",
       "      <td>Not Available now</td>\n",
       "      <td>Dimensity 6300 Processor</td>\n",
       "      <td>4.8</td>\n",
       "      <td>23.0</td>\n",
       "      <td>12999</td>\n",
       "    </tr>\n",
       "    <tr>\n",
       "      <th>8</th>\n",
       "      <td>vivo T4x 5G</td>\n",
       "      <td>vivo</td>\n",
       "      <td>Pronto Purple</td>\n",
       "      <td>8.0</td>\n",
       "      <td>128.0</td>\n",
       "      <td>Display</td>\n",
       "      <td>6.72</td>\n",
       "      <td>6500.0</td>\n",
       "      <td>50MP + 2MP</td>\n",
       "      <td>8MP Front Camera</td>\n",
       "      <td>Dimensity 7300 5G Processor</td>\n",
       "      <td>4.5</td>\n",
       "      <td>23.0</td>\n",
       "      <td>14999</td>\n",
       "    </tr>\n",
       "    <tr>\n",
       "      <th>85</th>\n",
       "      <td>realme C63 5G Charger in the Box</td>\n",
       "      <td>realme</td>\n",
       "      <td>Forest Green</td>\n",
       "      <td>8.0</td>\n",
       "      <td>128.0</td>\n",
       "      <td>HD+</td>\n",
       "      <td>6.67</td>\n",
       "      <td>5000.0</td>\n",
       "      <td>32MP Rear Camera</td>\n",
       "      <td>8MP Front Camera</td>\n",
       "      <td>Dimensity 6300 Processor</td>\n",
       "      <td>4.5</td>\n",
       "      <td>23.0</td>\n",
       "      <td>11499</td>\n",
       "    </tr>\n",
       "    <tr>\n",
       "      <th>538</th>\n",
       "      <td>vivo T4x 5G</td>\n",
       "      <td>vivo</td>\n",
       "      <td>Pronto Purple</td>\n",
       "      <td>6.0</td>\n",
       "      <td>128.0</td>\n",
       "      <td>Display</td>\n",
       "      <td>6.72</td>\n",
       "      <td>6500.0</td>\n",
       "      <td>50MP + 2MP</td>\n",
       "      <td>8MP Front Camera</td>\n",
       "      <td>Dimensity 7300 5G Processor</td>\n",
       "      <td>4.5</td>\n",
       "      <td>22.0</td>\n",
       "      <td>13999</td>\n",
       "    </tr>\n",
       "  </tbody>\n",
       "</table>\n",
       "</div>"
      ],
      "text/plain": [
       "                           Phone Name   Brand          Color  RAM (GB)  \\\n",
       "433                       OPPO A5x 5G    OPPO    Laser White       4.0   \n",
       "434                       OPPO A5x 5G    OPPO  Midnight Blue       4.0   \n",
       "8                         vivo T4x 5G    vivo  Pronto Purple       8.0   \n",
       "85   realme C63 5G Charger in the Box  realme   Forest Green       8.0   \n",
       "538                       vivo T4x 5G    vivo  Pronto Purple       6.0   \n",
       "\n",
       "     ROM (GB) Display Type  Display Size (inches)  Battery (mAh)  \\\n",
       "433     128.0      Display                   6.67         6000.0   \n",
       "434     128.0      Display                   6.67         6000.0   \n",
       "8       128.0      Display                   6.72         6500.0   \n",
       "85      128.0          HD+                   6.67         5000.0   \n",
       "538     128.0      Display                   6.72         6500.0   \n",
       "\n",
       "          Back Camera       Front Camera                    Processor  Rating  \\\n",
       "433  32MP Rear Camera  Not Available now     Dimensity 6300 Processor     4.8   \n",
       "434  32MP Rear Camera  Not Available now     Dimensity 6300 Processor     4.8   \n",
       "8          50MP + 2MP   8MP Front Camera  Dimensity 7300 5G Processor     4.5   \n",
       "85   32MP Rear Camera   8MP Front Camera     Dimensity 6300 Processor     4.5   \n",
       "538        50MP + 2MP   8MP Front Camera  Dimensity 7300 5G Processor     4.5   \n",
       "\n",
       "     Discount  Price  \n",
       "433      23.0  12999  \n",
       "434      23.0  12999  \n",
       "8        23.0  14999  \n",
       "85       23.0  11499  \n",
       "538      22.0  13999  "
      ]
     },
     "execution_count": 81,
     "metadata": {},
     "output_type": "execute_result"
    }
   ],
   "source": [
    "# Filter phones under ₹15,000\n",
    "budget_phones = df[df['Price'] <= 15000]\n",
    "\n",
    "# Sort by best features: Rating (high), RAM (high), Battery (high), Price (low)\n",
    "best_value_phones = budget_phones.sort_values(\n",
    "    by=['Rating', 'RAM (GB)', 'Battery (mAh)', 'Price'], \n",
    "    ascending=[False, False, False, True]\n",
    ")\n",
    "\n",
    "best_value_phones.head()\n"
   ]
  },
  {
   "cell_type": "markdown",
   "id": "839ced29",
   "metadata": {},
   "source": [
    "\n",
    "**🔍 Best value phones under budget:**\n",
    "\n",
    "* **realme C63 5G** offers the **best value** — 8GB RAM, 128GB ROM, 4.5★ rating, just ₹11,499.\n",
    "* **OPPO A5x 5G** has the **highest rating (4.8★)** and big battery at ₹12,999.\n",
    "* **vivo T4x & T3x 5G** give strong specs (6–8GB RAM, 6500 mAh) around ₹13k–15k.\n",
    "\n",
    "✅ For **maximum features at lowest price**, go for **realme C63 5G** or **OPPO A5x 5G**.\n"
   ]
  },
  {
   "cell_type": "markdown",
   "id": "2e725974",
   "metadata": {},
   "source": [
    "# Compare brand-wise average discounts.\n"
   ]
  },
  {
   "cell_type": "code",
   "execution_count": 82,
   "id": "9d0372a2",
   "metadata": {},
   "outputs": [
    {
     "data": {
      "text/plain": [
       "Brand\n",
       "13               44.000000\n",
       "Xiaomi           40.333333\n",
       "Mi               37.333333\n",
       "Honor            34.400000\n",
       "(Refurbished)    33.500000\n",
       "Samsung          30.379747\n",
       "Name: Discount, dtype: float64"
      ]
     },
     "execution_count": 82,
     "metadata": {},
     "output_type": "execute_result"
    }
   ],
   "source": [
    "# Group by Brand and calculate average discount\n",
    "brand_discount = df.groupby('Brand')['Discount'].mean().sort_values(ascending=False)\n",
    "\n",
    "brand_discount.head(6)\n"
   ]
  },
  {
   "cell_type": "markdown",
   "id": "c809145d",
   "metadata": {},
   "source": [
    "\n",
    "\n",
    "**💸 Brand-wise average discounts:**\n",
    "\n",
    "* **Xiaomi** and **Mi** offer the **highest average discounts** (above 37%).\n",
    "* **Honor** and **Samsung** also give **good regular discounts**.\n",
    "* **Google** and **LAVA** offer **lesser discounts** compared to others.\n",
    "\n",
    "✅ So, for regular savings, **Xiaomi & Mi** are the best picks.\n"
   ]
  },
  {
   "cell_type": "markdown",
   "id": "c694cc3d",
   "metadata": {},
   "source": [
    "# How does RAM affect the price across different brands?\n",
    "\n"
   ]
  },
  {
   "cell_type": "code",
   "execution_count": 83,
   "id": "1fc749f7",
   "metadata": {},
   "outputs": [
    {
     "data": {
      "text/html": [
       "<div>\n",
       "<style scoped>\n",
       "    .dataframe tbody tr th:only-of-type {\n",
       "        vertical-align: middle;\n",
       "    }\n",
       "\n",
       "    .dataframe tbody tr th {\n",
       "        vertical-align: top;\n",
       "    }\n",
       "\n",
       "    .dataframe thead th {\n",
       "        text-align: right;\n",
       "    }\n",
       "</style>\n",
       "<table border=\"1\" class=\"dataframe\">\n",
       "  <thead>\n",
       "    <tr style=\"text-align: right;\">\n",
       "      <th></th>\n",
       "      <th>Brand</th>\n",
       "      <th>RAM (GB)</th>\n",
       "      <th>Price</th>\n",
       "    </tr>\n",
       "  </thead>\n",
       "  <tbody>\n",
       "    <tr>\n",
       "      <th>0</th>\n",
       "      <td>13</td>\n",
       "      <td>12.0</td>\n",
       "      <td>49990.000000</td>\n",
       "    </tr>\n",
       "    <tr>\n",
       "      <th>1</th>\n",
       "      <td>ASUS</td>\n",
       "      <td>8.0</td>\n",
       "      <td>55999.000000</td>\n",
       "    </tr>\n",
       "    <tr>\n",
       "      <th>2</th>\n",
       "      <td>Alcatel</td>\n",
       "      <td>8.0</td>\n",
       "      <td>17999.000000</td>\n",
       "    </tr>\n",
       "    <tr>\n",
       "      <th>3</th>\n",
       "      <td>CMF</td>\n",
       "      <td>6.0</td>\n",
       "      <td>15999.000000</td>\n",
       "    </tr>\n",
       "    <tr>\n",
       "      <th>4</th>\n",
       "      <td>CMF</td>\n",
       "      <td>8.0</td>\n",
       "      <td>19141.857143</td>\n",
       "    </tr>\n",
       "    <tr>\n",
       "      <th>...</th>\n",
       "      <td>...</td>\n",
       "      <td>...</td>\n",
       "      <td>...</td>\n",
       "    </tr>\n",
       "    <tr>\n",
       "      <th>70</th>\n",
       "      <td>vivo</td>\n",
       "      <td>4.0</td>\n",
       "      <td>11652.846154</td>\n",
       "    </tr>\n",
       "    <tr>\n",
       "      <th>71</th>\n",
       "      <td>vivo</td>\n",
       "      <td>6.0</td>\n",
       "      <td>13691.307692</td>\n",
       "    </tr>\n",
       "    <tr>\n",
       "      <th>72</th>\n",
       "      <td>vivo</td>\n",
       "      <td>8.0</td>\n",
       "      <td>28400.472527</td>\n",
       "    </tr>\n",
       "    <tr>\n",
       "      <th>73</th>\n",
       "      <td>vivo</td>\n",
       "      <td>12.0</td>\n",
       "      <td>41285.920000</td>\n",
       "    </tr>\n",
       "    <tr>\n",
       "      <th>74</th>\n",
       "      <td>vivo</td>\n",
       "      <td>16.0</td>\n",
       "      <td>100739.285714</td>\n",
       "    </tr>\n",
       "  </tbody>\n",
       "</table>\n",
       "<p>75 rows × 3 columns</p>\n",
       "</div>"
      ],
      "text/plain": [
       "      Brand  RAM (GB)          Price\n",
       "0        13      12.0   49990.000000\n",
       "1      ASUS       8.0   55999.000000\n",
       "2   Alcatel       8.0   17999.000000\n",
       "3       CMF       6.0   15999.000000\n",
       "4       CMF       8.0   19141.857143\n",
       "..      ...       ...            ...\n",
       "70     vivo       4.0   11652.846154\n",
       "71     vivo       6.0   13691.307692\n",
       "72     vivo       8.0   28400.472527\n",
       "73     vivo      12.0   41285.920000\n",
       "74     vivo      16.0  100739.285714\n",
       "\n",
       "[75 rows x 3 columns]"
      ]
     },
     "execution_count": 83,
     "metadata": {},
     "output_type": "execute_result"
    }
   ],
   "source": [
    "# Group by Brand and RAM, then calculate average Price\n",
    "ram_price = df.groupby(['Brand','RAM (GB)'])['Price'].mean().reset_index()\n",
    "ram_price"
   ]
  },
  {
   "cell_type": "code",
   "execution_count": 84,
   "id": "13ab5020",
   "metadata": {},
   "outputs": [
    {
     "data": {
      "image/png": "[encoded data removed]",
      "text/plain": [
       "<Figure size 1200x600 with 1 Axes>"
      ]
     },
     "metadata": {},
     "output_type": "display_data"
    }
   ],
   "source": [
    "\n",
    "# Plotting\n",
    "plt.figure(figsize=(12, 6))\n",
    "sns.lineplot(data=ram_price, x='RAM (GB)', y='Price', hue='Brand', marker='o')\n",
    "plt.title('How RAM Affects Price Across Different Brands')\n",
    "plt.xlabel('RAM (GB)')\n",
    "plt.ylabel('Average Price (₹)')\n",
    "plt.grid(True)\n",
    "plt.tight_layout()\n",
    "plt.show()"
   ]
  },
  {
   "cell_type": "markdown",
   "id": "2115778d",
   "metadata": {},
   "source": [
    "\n",
    "**🧠 RAM vs Price across brands:**\n",
    "\n",
    "* In most brands like **IQOO**, **vivo**, and **Google**, price **increases clearly** with more RAM.\n",
    "* Some brands (like **Infinix** or **Alcatel**) offer **higher RAM at lower prices**, breaking the trend.\n",
    "* **More RAM** generally means **higher price**, but **brand matters** a lot in pricing.\n",
    "\n",
    "✅ So, RAM affects price, but not equally across all brands.\n"
   ]
  },
  {
   "cell_type": "markdown",
   "id": "8a77bfa2",
   "metadata": {},
   "source": [
    "\n",
    "# Which brands offer phones with the largest batteries?\n"
   ]
  },
  {
   "cell_type": "code",
   "execution_count": 85,
   "id": "6b7b7d21",
   "metadata": {},
   "outputs": [
    {
     "data": {
      "text/plain": [
       "Brand\n",
       "Cubot     10200.000000\n",
       "ASUS       6000.000000\n",
       "IQOO       5928.771930\n",
       "realme     5494.285714\n",
       "OPPO       5474.905660\n",
       "Name: Battery (mAh), dtype: float64"
      ]
     },
     "execution_count": 85,
     "metadata": {},
     "output_type": "execute_result"
    }
   ],
   "source": [
    "brand_battery = df.groupby('Brand')['Battery (mAh)'].mean().sort_values(ascending=False)\n",
    "\n",
    "brand_battery.head()\n"
   ]
  },
  {
   "cell_type": "markdown",
   "id": "2f5b34e0",
   "metadata": {},
   "source": [
    "\n",
    "**🔋 Brand-wise battery size trends:**\n",
    "\n",
    "* **Cubot** offers phones with the **largest batteries** (10,200 mAh).\n",
    "* **ASUS** and **IQOO** also provide phones with **big batteries** around **6000 mAh**.\n",
    "* **realme** and **OPPO** follow with slightly smaller but still strong battery capacities.\n",
    "\n",
    "✅ So, **Cubot leads in battery size**, followed by **ASUS** and **IQOO**.\n"
   ]
  },
  {
   "cell_type": "markdown",
   "id": "08803ba7",
   "metadata": {},
   "source": [
    "# Which brands offer best-rated phones in ₹10,000 – ₹15,000 range?\n"
   ]
  },
  {
   "cell_type": "code",
   "execution_count": 86,
   "id": "e48c1ede",
   "metadata": {},
   "outputs": [
    {
     "name": "stdout",
     "output_type": "stream",
     "text": [
      "📊 Best-Rated Brands in ₹10,000 – ₹15,000 Range:\n",
      "Brand\n",
      "OPPO             4.500000\n",
      "OnePlus          4.400000\n",
      "vivo             4.396000\n",
      "realme           4.332653\n",
      "IQOO             4.328571\n",
      "Infinix          4.300000\n",
      "REDMI            4.268966\n",
      "Motorola         4.266667\n",
      "Samsung          4.231818\n",
      "POCO             4.230303\n",
      "MOTOROLA         4.200000\n",
      "Tecno            4.100000\n",
      "itel             3.600000\n",
      "(Refurbished)    2.400000\n",
      "Name: Rating, dtype: float64\n"
     ]
    }
   ],
   "source": [
    "# Filter phones in ₹10,000 – ₹15,000 range\n",
    "budget_df = df[(df['Price'] >= 10000) & (df['Price'] <= 15000)]\n",
    "\n",
    "# Group by brand and calculate average rating\n",
    "best_brands = budget_df.groupby('Brand')['Rating'].mean().sort_values(ascending=False)\n",
    "\n",
    "# Show top brands\n",
    "print(\"📊 Best-Rated Brands in ₹10,000 – ₹15,000 Range:\")\n",
    "print(best_brands)\n"
   ]
  },
  {
   "cell_type": "markdown",
   "id": "560256f7",
   "metadata": {},
   "source": [
    "\n",
    "\n",
    "**💡 Best-rated brands in ₹10,000 – ₹15,000 range:**\n",
    "\n",
    "* **OPPO** leads with the **highest average rating (4.5)**.\n",
    "* **OnePlus**, **vivo**, and **realme** follow closely with strong ratings.\n",
    "* Brands like **itel** and **refurbished phones** have **low user ratings**.\n",
    "\n",
    "✅ So, for students or budget buyers, **OPPO**, **vivo**, and **realme** are safe and reliable choices.\n"
   ]
  },
  {
   "cell_type": "code",
   "execution_count": null,
   "id": "fe7aaa1b",
   "metadata": {},
   "outputs": [],
   "source": []
  },
  {
   "cell_type": "code",
   "execution_count": 87,
   "id": "0697f160",
   "metadata": {},
   "outputs": [
    {
     "data": {
      "text/plain": [
       "(1072, 14)"
      ]
     },
     "execution_count": 87,
     "metadata": {},
     "output_type": "execute_result"
    }
   ],
   "source": [
    "# Keep only rows where 'Price' is greater than or equal to 5000\n",
    "df = df[df['Price'] >= 5000]\n",
    "\n",
    "# Drop all rows that contain 'NA' in any column\n",
    "df = df[~df.isin(['NA']).any(axis=1)].reset_index(drop=True)\n",
    "\n",
    "# Drop all rows that contain 'Not Available' in any column (corrected parentheses position)\n",
    "df = df[~df.isin(['Not Available']).any(axis=1)].reset_index(drop=True)\n",
    "\n",
    "df.dropna(inplace=True)\n",
    "\n",
    "\n",
    "df.shape"
   ]
  },
  {
   "cell_type": "code",
   "execution_count": 88,
   "id": "a0eda6a9",
   "metadata": {},
   "outputs": [
    {
     "data": {
      "text/plain": [
       "Phone Name               0\n",
       "Brand                    0\n",
       "Color                    0\n",
       "RAM (GB)                 0\n",
       "ROM (GB)                 0\n",
       "Display Type             0\n",
       "Display Size (inches)    0\n",
       "Battery (mAh)            0\n",
       "Back Camera              0\n",
       "Front Camera             0\n",
       "Processor                0\n",
       "Rating                   0\n",
       "Discount                 0\n",
       "Price                    0\n",
       "dtype: int64"
      ]
     },
     "execution_count": 88,
     "metadata": {},
     "output_type": "execute_result"
    }
   ],
   "source": [
    "df.isnull().sum()"
   ]
  },
  {
   "cell_type": "code",
   "execution_count": 89,
   "id": "f0d83db3",
   "metadata": {},
   "outputs": [
    {
     "data": {
      "image/png": "[encoded data removed]",
      "text/plain": [
       "<Figure size 1000x600 with 1 Axes>"
      ]
     },
     "metadata": {},
     "output_type": "display_data"
    }
   ],
   "source": [
    "import matplotlib.pyplot as plt\n",
    "import seaborn as sns\n",
    "\n",
    "# Clean visuals\n",
    "sns.set(style='whitegrid')\n",
    "plt.figure(figsize=(10,6))\n",
    "\n",
    "\n",
    "sns.histplot(df['Price'], kde=True)\n",
    "plt.title(\"Price Distribution of Phones\")\n",
    "plt.xlabel(\"Price\")\n",
    "plt.ylabel(\"Count\")\n",
    "plt.show()\n"
   ]
  },
  {
   "cell_type": "code",
   "execution_count": 90,
   "id": "1d3c92a3",
   "metadata": {},
   "outputs": [
    {
     "data": {
      "image/png": "[encoded data removed]",
      "text/plain": [
       "<Figure size 640x480 with 1 Axes>"
      ]
     },
     "metadata": {},
     "output_type": "display_data"
    }
   ],
   "source": [
    "sns.boxplot(x=df['Brand'], y=df['Price'])\n",
    "plt.title(\"Price Comparison by Brand\")\n",
    "plt.xticks(rotation=45)\n",
    "plt.show()\n"
   ]
  },
  {
   "cell_type": "code",
   "execution_count": 91,
   "id": "657f3d52",
   "metadata": {},
   "outputs": [
    {
     "data": {
      "image/png": "[encoded data removed]",
      "text/plain": [
       "<Figure size 640x480 with 1 Axes>"
      ]
     },
     "metadata": {},
     "output_type": "display_data"
    }
   ],
   "source": [
    "sns.scatterplot(x=df['RAM (GB)'], y=df['Price'])\n",
    "plt.title(\"RAM vs Price\")\n",
    "plt.show()\n"
   ]
  },
  {
   "cell_type": "code",
   "execution_count": null,
   "id": "105d9871",
   "metadata": {},
   "outputs": [],
   "source": []
  },
  {
   "cell_type": "code",
   "execution_count": null,
   "id": "2ec170e0",
   "metadata": {},
   "outputs": [],
   "source": []
  },
  {
   "cell_type": "code",
   "execution_count": 92,
   "id": "a63caa69",
   "metadata": {},
   "outputs": [],
   "source": [
    "df.to_csv('machine_learning_dataset.csv', index=False, encoding='utf-8')"
   ]
  },
  {
   "cell_type": "code",
   "execution_count": 93,
   "id": "cb7d7912",
   "metadata": {},
   "outputs": [],
   "source": [
    "data = pd.read_csv('machine_learning_dataset.csv')\n"
   ]
  },
  {
   "cell_type": "code",
   "execution_count": 94,
   "id": "e43d4907",
   "metadata": {},
   "outputs": [
    {
     "name": "stdout",
     "output_type": "stream",
     "text": [
      "<class 'pandas.core.frame.DataFrame'>\n",
      "RangeIndex: 1072 entries, 0 to 1071\n",
      "Data columns (total 14 columns):\n",
      " #   Column                 Non-Null Count  Dtype  \n",
      "---  ------                 --------------  -----  \n",
      " 0   Phone Name             1072 non-null   object \n",
      " 1   Brand                  1072 non-null   object \n",
      " 2   Color                  1072 non-null   object \n",
      " 3   RAM (GB)               1072 non-null   float64\n",
      " 4   ROM (GB)               1072 non-null   float64\n",
      " 5   Display Type           1072 non-null   object \n",
      " 6   Display Size (inches)  1072 non-null   float64\n",
      " 7   Battery (mAh)          1072 non-null   float64\n",
      " 8   Back Camera            1072 non-null   object \n",
      " 9   Front Camera           1072 non-null   object \n",
      " 10  Processor              1072 non-null   object \n",
      " 11  Rating                 1072 non-null   float64\n",
      " 12  Discount               1072 non-null   float64\n",
      " 13  Price                  1072 non-null   int64  \n",
      "dtypes: float64(6), int64(1), object(7)\n",
      "memory usage: 117.4+ KB\n"
     ]
    }
   ],
   "source": [
    "data.info()"
   ]
  },
  {
   "cell_type": "code",
   "execution_count": 95,
   "id": "0f7422c0",
   "metadata": {},
   "outputs": [
    {
     "data": {
      "text/plain": [
       "Index(['Phone Name', 'Brand', 'Color', 'RAM (GB)', 'ROM (GB)', 'Display Type',\n",
       "       'Display Size (inches)', 'Battery (mAh)', 'Back Camera', 'Front Camera',\n",
       "       'Processor', 'Rating', 'Discount', 'Price'],\n",
       "      dtype='object')"
      ]
     },
     "execution_count": 95,
     "metadata": {},
     "output_type": "execute_result"
    }
   ],
   "source": [
    "data.columns"
   ]
  },
  {
   "cell_type": "code",
   "execution_count": 96,
   "id": "490c6f52",
   "metadata": {},
   "outputs": [
    {
     "data": {
      "text/plain": [
       "array(['POCO', 'realme', 'Infinix', 'Tecno', 'Motorola', 'OPPO', 'vivo',\n",
       "       'Samsung', 'MOTOROLA', 'REDMI', 'IQOO', 'OnePlus', 'CMF', 'Google',\n",
       "       'Nothing', 'Xiaomi', 'itel', 'Alcatel', 'Honor', 'LAVA', '13',\n",
       "       'Mi', 'LG'], dtype=object)"
      ]
     },
     "execution_count": 96,
     "metadata": {},
     "output_type": "execute_result"
    }
   ],
   "source": [
    "data['Brand'].unique()"
   ]
  },
  {
   "cell_type": "code",
   "execution_count": 97,
   "id": "9fbaddda",
   "metadata": {},
   "outputs": [
    {
     "data": {
      "text/html": [
       "<div>\n",
       "<style scoped>\n",
       "    .dataframe tbody tr th:only-of-type {\n",
       "        vertical-align: middle;\n",
       "    }\n",
       "\n",
       "    .dataframe tbody tr th {\n",
       "        vertical-align: top;\n",
       "    }\n",
       "\n",
       "    .dataframe thead th {\n",
       "        text-align: right;\n",
       "    }\n",
       "</style>\n",
       "<table border=\"1\" class=\"dataframe\">\n",
       "  <thead>\n",
       "    <tr style=\"text-align: right;\">\n",
       "      <th></th>\n",
       "      <th>Phone Name</th>\n",
       "      <th>Brand</th>\n",
       "      <th>Color</th>\n",
       "      <th>RAM (GB)</th>\n",
       "      <th>ROM (GB)</th>\n",
       "      <th>Display Size (inches)</th>\n",
       "      <th>Battery (mAh)</th>\n",
       "      <th>Back Camera</th>\n",
       "      <th>Front Camera</th>\n",
       "      <th>Processor</th>\n",
       "      <th>...</th>\n",
       "      <th>Display Type_Full HD</th>\n",
       "      <th>Display Type_Full HD+</th>\n",
       "      <th>Display Type_Full HD+ AMOLED</th>\n",
       "      <th>Display Type_Full HD+ E3 Super AMOLED</th>\n",
       "      <th>Display Type_Full HD+ Super AMOLED</th>\n",
       "      <th>Display Type_HD</th>\n",
       "      <th>Display Type_HD+</th>\n",
       "      <th>Display Type_Quad HD+</th>\n",
       "      <th>Display Type_Super HD</th>\n",
       "      <th>Display Type_WQHD</th>\n",
       "    </tr>\n",
       "  </thead>\n",
       "  <tbody>\n",
       "    <tr>\n",
       "      <th>0</th>\n",
       "      <td>POCO M6 Plus 5G</td>\n",
       "      <td>POCO</td>\n",
       "      <td>Misty Lavender</td>\n",
       "      <td>6.0</td>\n",
       "      <td>128.0</td>\n",
       "      <td>6.79</td>\n",
       "      <td>5030.0</td>\n",
       "      <td>108MP + 2MP</td>\n",
       "      <td>13MP Front Camera</td>\n",
       "      <td>Snapdragon 4 Gen2 AE Processor</td>\n",
       "      <td>...</td>\n",
       "      <td>0</td>\n",
       "      <td>1</td>\n",
       "      <td>0</td>\n",
       "      <td>0</td>\n",
       "      <td>0</td>\n",
       "      <td>0</td>\n",
       "      <td>0</td>\n",
       "      <td>0</td>\n",
       "      <td>0</td>\n",
       "      <td>0</td>\n",
       "    </tr>\n",
       "    <tr>\n",
       "      <th>1</th>\n",
       "      <td>realme C63 5G Charger in the Box</td>\n",
       "      <td>realme</td>\n",
       "      <td>Forest Green</td>\n",
       "      <td>6.0</td>\n",
       "      <td>128.0</td>\n",
       "      <td>6.67</td>\n",
       "      <td>5000.0</td>\n",
       "      <td>32MP Rear Camera</td>\n",
       "      <td>8MP Front Camera</td>\n",
       "      <td>Dimensity 6300 Processor</td>\n",
       "      <td>...</td>\n",
       "      <td>0</td>\n",
       "      <td>0</td>\n",
       "      <td>0</td>\n",
       "      <td>0</td>\n",
       "      <td>0</td>\n",
       "      <td>0</td>\n",
       "      <td>1</td>\n",
       "      <td>0</td>\n",
       "      <td>0</td>\n",
       "      <td>0</td>\n",
       "    </tr>\n",
       "    <tr>\n",
       "      <th>2</th>\n",
       "      <td>Infinix Note 50x 5G+</td>\n",
       "      <td>Infinix</td>\n",
       "      <td>Sea Breeze Green</td>\n",
       "      <td>6.0</td>\n",
       "      <td>128.0</td>\n",
       "      <td>6.67</td>\n",
       "      <td>5500.0</td>\n",
       "      <td>50MP + AI Lens</td>\n",
       "      <td>8MP Front Camera</td>\n",
       "      <td>Dimensity 7300 Ultimate Processor</td>\n",
       "      <td>...</td>\n",
       "      <td>0</td>\n",
       "      <td>0</td>\n",
       "      <td>0</td>\n",
       "      <td>0</td>\n",
       "      <td>0</td>\n",
       "      <td>0</td>\n",
       "      <td>1</td>\n",
       "      <td>0</td>\n",
       "      <td>0</td>\n",
       "      <td>0</td>\n",
       "    </tr>\n",
       "    <tr>\n",
       "      <th>3</th>\n",
       "      <td>Infinix GT 30 Pro 5G+</td>\n",
       "      <td>Infinix</td>\n",
       "      <td>Blade White</td>\n",
       "      <td>12.0</td>\n",
       "      <td>256.0</td>\n",
       "      <td>6.78</td>\n",
       "      <td>5500.0</td>\n",
       "      <td>108MP + 8MP</td>\n",
       "      <td>13MP Front Camera</td>\n",
       "      <td>Dimensity 8350 Ultimate Processor</td>\n",
       "      <td>...</td>\n",
       "      <td>0</td>\n",
       "      <td>0</td>\n",
       "      <td>0</td>\n",
       "      <td>0</td>\n",
       "      <td>0</td>\n",
       "      <td>0</td>\n",
       "      <td>0</td>\n",
       "      <td>0</td>\n",
       "      <td>0</td>\n",
       "      <td>0</td>\n",
       "    </tr>\n",
       "    <tr>\n",
       "      <th>4</th>\n",
       "      <td>POCO M7 5G</td>\n",
       "      <td>POCO</td>\n",
       "      <td>Mint Green</td>\n",
       "      <td>8.0</td>\n",
       "      <td>128.0</td>\n",
       "      <td>6.88</td>\n",
       "      <td>5160.0</td>\n",
       "      <td>50MP Rear Camera</td>\n",
       "      <td>8MP Front Camera</td>\n",
       "      <td>4 Gen 2 5G Processor</td>\n",
       "      <td>...</td>\n",
       "      <td>0</td>\n",
       "      <td>0</td>\n",
       "      <td>0</td>\n",
       "      <td>0</td>\n",
       "      <td>0</td>\n",
       "      <td>0</td>\n",
       "      <td>1</td>\n",
       "      <td>0</td>\n",
       "      <td>0</td>\n",
       "      <td>0</td>\n",
       "    </tr>\n",
       "    <tr>\n",
       "      <th>...</th>\n",
       "      <td>...</td>\n",
       "      <td>...</td>\n",
       "      <td>...</td>\n",
       "      <td>...</td>\n",
       "      <td>...</td>\n",
       "      <td>...</td>\n",
       "      <td>...</td>\n",
       "      <td>...</td>\n",
       "      <td>...</td>\n",
       "      <td>...</td>\n",
       "      <td>...</td>\n",
       "      <td>...</td>\n",
       "      <td>...</td>\n",
       "      <td>...</td>\n",
       "      <td>...</td>\n",
       "      <td>...</td>\n",
       "      <td>...</td>\n",
       "      <td>...</td>\n",
       "      <td>...</td>\n",
       "      <td>...</td>\n",
       "      <td>...</td>\n",
       "    </tr>\n",
       "    <tr>\n",
       "      <th>1286</th>\n",
       "      <td>vivo V30e</td>\n",
       "      <td>vivo</td>\n",
       "      <td>Silk Blue</td>\n",
       "      <td>8.0</td>\n",
       "      <td>128.0</td>\n",
       "      <td>6.78</td>\n",
       "      <td>5500.0</td>\n",
       "      <td>50MP + 8MP</td>\n",
       "      <td>50MP Front Camera</td>\n",
       "      <td>6 Gen 1 Processor</td>\n",
       "      <td>...</td>\n",
       "      <td>0</td>\n",
       "      <td>1</td>\n",
       "      <td>0</td>\n",
       "      <td>0</td>\n",
       "      <td>0</td>\n",
       "      <td>0</td>\n",
       "      <td>0</td>\n",
       "      <td>0</td>\n",
       "      <td>0</td>\n",
       "      <td>0</td>\n",
       "    </tr>\n",
       "    <tr>\n",
       "      <th>1287</th>\n",
       "      <td>vivo V29e 5G</td>\n",
       "      <td>vivo</td>\n",
       "      <td>Artistic Blue</td>\n",
       "      <td>8.0</td>\n",
       "      <td>256.0</td>\n",
       "      <td>6.78</td>\n",
       "      <td>5000.0</td>\n",
       "      <td>64MP + 8MP</td>\n",
       "      <td>50MP Front Camera</td>\n",
       "      <td>Snapdragon 695 Processor</td>\n",
       "      <td>...</td>\n",
       "      <td>0</td>\n",
       "      <td>1</td>\n",
       "      <td>0</td>\n",
       "      <td>0</td>\n",
       "      <td>0</td>\n",
       "      <td>0</td>\n",
       "      <td>0</td>\n",
       "      <td>0</td>\n",
       "      <td>0</td>\n",
       "      <td>0</td>\n",
       "    </tr>\n",
       "    <tr>\n",
       "      <th>1288</th>\n",
       "      <td>vivo V29e 5G</td>\n",
       "      <td>vivo</td>\n",
       "      <td>Artistic Red</td>\n",
       "      <td>8.0</td>\n",
       "      <td>128.0</td>\n",
       "      <td>6.78</td>\n",
       "      <td>5000.0</td>\n",
       "      <td>64MP + 8MP</td>\n",
       "      <td>50MP Front Camera</td>\n",
       "      <td>Snapdragon 695 Processor</td>\n",
       "      <td>...</td>\n",
       "      <td>0</td>\n",
       "      <td>1</td>\n",
       "      <td>0</td>\n",
       "      <td>0</td>\n",
       "      <td>0</td>\n",
       "      <td>0</td>\n",
       "      <td>0</td>\n",
       "      <td>0</td>\n",
       "      <td>0</td>\n",
       "      <td>0</td>\n",
       "    </tr>\n",
       "    <tr>\n",
       "      <th>1289</th>\n",
       "      <td>Nothing Phone</td>\n",
       "      <td>Nothing</td>\n",
       "      <td>2a) 5G (Blue</td>\n",
       "      <td>12.0</td>\n",
       "      <td>256.0</td>\n",
       "      <td>6.70</td>\n",
       "      <td>5000.0</td>\n",
       "      <td>50MP (OIS) + 50MP</td>\n",
       "      <td>32MP Front Camera</td>\n",
       "      <td>Dimensity 7200 Pro Processor</td>\n",
       "      <td>...</td>\n",
       "      <td>0</td>\n",
       "      <td>1</td>\n",
       "      <td>0</td>\n",
       "      <td>0</td>\n",
       "      <td>0</td>\n",
       "      <td>0</td>\n",
       "      <td>0</td>\n",
       "      <td>0</td>\n",
       "      <td>0</td>\n",
       "      <td>0</td>\n",
       "    </tr>\n",
       "    <tr>\n",
       "      <th>1290</th>\n",
       "      <td>vivo V29e 5G</td>\n",
       "      <td>vivo</td>\n",
       "      <td>Artistic Blue</td>\n",
       "      <td>8.0</td>\n",
       "      <td>128.0</td>\n",
       "      <td>6.78</td>\n",
       "      <td>5000.0</td>\n",
       "      <td>64MP + 8MP</td>\n",
       "      <td>50MP Front Camera</td>\n",
       "      <td>Snapdragon 695 Processor</td>\n",
       "      <td>...</td>\n",
       "      <td>0</td>\n",
       "      <td>1</td>\n",
       "      <td>0</td>\n",
       "      <td>0</td>\n",
       "      <td>0</td>\n",
       "      <td>0</td>\n",
       "      <td>0</td>\n",
       "      <td>0</td>\n",
       "      <td>0</td>\n",
       "      <td>0</td>\n",
       "    </tr>\n",
       "  </tbody>\n",
       "</table>\n",
       "<p>1072 rows × 24 columns</p>\n",
       "</div>"
      ],
      "text/plain": [
       "                            Phone Name    Brand             Color  RAM (GB)  \\\n",
       "0                      POCO M6 Plus 5G     POCO    Misty Lavender       6.0   \n",
       "1     realme C63 5G Charger in the Box   realme      Forest Green       6.0   \n",
       "2                 Infinix Note 50x 5G+  Infinix  Sea Breeze Green       6.0   \n",
       "3                Infinix GT 30 Pro 5G+  Infinix       Blade White      12.0   \n",
       "4                           POCO M7 5G     POCO        Mint Green       8.0   \n",
       "...                                ...      ...               ...       ...   \n",
       "1286                         vivo V30e     vivo         Silk Blue       8.0   \n",
       "1287                      vivo V29e 5G     vivo     Artistic Blue       8.0   \n",
       "1288                      vivo V29e 5G     vivo      Artistic Red       8.0   \n",
       "1289                     Nothing Phone  Nothing      2a) 5G (Blue      12.0   \n",
       "1290                      vivo V29e 5G     vivo     Artistic Blue       8.0   \n",
       "\n",
       "      ROM (GB)  Display Size (inches)  Battery (mAh)        Back Camera  \\\n",
       "0        128.0                   6.79         5030.0        108MP + 2MP   \n",
       "1        128.0                   6.67         5000.0   32MP Rear Camera   \n",
       "2        128.0                   6.67         5500.0     50MP + AI Lens   \n",
       "3        256.0                   6.78         5500.0        108MP + 8MP   \n",
       "4        128.0                   6.88         5160.0   50MP Rear Camera   \n",
       "...        ...                    ...            ...                ...   \n",
       "1286     128.0                   6.78         5500.0         50MP + 8MP   \n",
       "1287     256.0                   6.78         5000.0         64MP + 8MP   \n",
       "1288     128.0                   6.78         5000.0         64MP + 8MP   \n",
       "1289     256.0                   6.70         5000.0  50MP (OIS) + 50MP   \n",
       "1290     128.0                   6.78         5000.0         64MP + 8MP   \n",
       "\n",
       "           Front Camera                          Processor  ...  \\\n",
       "0     13MP Front Camera     Snapdragon 4 Gen2 AE Processor  ...   \n",
       "1      8MP Front Camera           Dimensity 6300 Processor  ...   \n",
       "2      8MP Front Camera  Dimensity 7300 Ultimate Processor  ...   \n",
       "3     13MP Front Camera  Dimensity 8350 Ultimate Processor  ...   \n",
       "4      8MP Front Camera               4 Gen 2 5G Processor  ...   \n",
       "...                 ...                                ...  ...   \n",
       "1286  50MP Front Camera                  6 Gen 1 Processor  ...   \n",
       "1287  50MP Front Camera           Snapdragon 695 Processor  ...   \n",
       "1288  50MP Front Camera           Snapdragon 695 Processor  ...   \n",
       "1289  32MP Front Camera       Dimensity 7200 Pro Processor  ...   \n",
       "1290  50MP Front Camera           Snapdragon 695 Processor  ...   \n",
       "\n",
       "      Display Type_Full HD  Display Type_Full HD+  \\\n",
       "0                        0                      1   \n",
       "1                        0                      0   \n",
       "2                        0                      0   \n",
       "3                        0                      0   \n",
       "4                        0                      0   \n",
       "...                    ...                    ...   \n",
       "1286                     0                      1   \n",
       "1287                     0                      1   \n",
       "1288                     0                      1   \n",
       "1289                     0                      1   \n",
       "1290                     0                      1   \n",
       "\n",
       "      Display Type_Full HD+ AMOLED  Display Type_Full HD+ E3 Super AMOLED  \\\n",
       "0                                0                                      0   \n",
       "1                                0                                      0   \n",
       "2                                0                                      0   \n",
       "3                                0                                      0   \n",
       "4                                0                                      0   \n",
       "...                            ...                                    ...   \n",
       "1286                             0                                      0   \n",
       "1287                             0                                      0   \n",
       "1288                             0                                      0   \n",
       "1289                             0                                      0   \n",
       "1290                             0                                      0   \n",
       "\n",
       "      Display Type_Full HD+ Super AMOLED  Display Type_HD  Display Type_HD+  \\\n",
       "0                                      0                0                 0   \n",
       "1                                      0                0                 1   \n",
       "2                                      0                0                 1   \n",
       "3                                      0                0                 0   \n",
       "4                                      0                0                 1   \n",
       "...                                  ...              ...               ...   \n",
       "1286                                   0                0                 0   \n",
       "1287                                   0                0                 0   \n",
       "1288                                   0                0                 0   \n",
       "1289                                   0                0                 0   \n",
       "1290                                   0                0                 0   \n",
       "\n",
       "      Display Type_Quad HD+  Display Type_Super HD  Display Type_WQHD  \n",
       "0                         0                      0                  0  \n",
       "1                         0                      0                  0  \n",
       "2                         0                      0                  0  \n",
       "3                         0                      0                  0  \n",
       "4                         0                      0                  0  \n",
       "...                     ...                    ...                ...  \n",
       "1286                      0                      0                  0  \n",
       "1287                      0                      0                  0  \n",
       "1288                      0                      0                  0  \n",
       "1289                      0                      0                  0  \n",
       "1290                      0                      0                  0  \n",
       "\n",
       "[1072 rows x 24 columns]"
      ]
     },
     "execution_count": 97,
     "metadata": {},
     "output_type": "execute_result"
    }
   ],
   "source": [
    "from sklearn.preprocessing import LabelEncoder \n",
    "# Drop unnecessary columns\n",
    "data.drop(['Phone Name', 'Color'], axis=1, inplace=True)\n",
    "\n",
    "# Apply Label Encoding on categorical columns\n",
    "le = LabelEncoder()\n",
    "data['Brand'] = le.fit_transform(df['Brand'])\n",
    "data['Back Camera'] = le.fit_transform(df['Back Camera'])\n",
    "data['Front Camera'] = le.fit_transform(df['Front Camera'])\n",
    "data['Processor'] = le.fit_transform(df['Processor'])\n",
    "\n",
    "# Apply One-Hot Encoding on 'Display Type' column\n",
    "data = pd.get_dummies(df, columns=['Display Type'], dtype=int)\n",
    "\n",
    "\n",
    "data"
   ]
  }
 ],
 "metadata": {
  "kernelspec": {
   "display_name": "myenv",
   "language": "python",
   "name": "python3"
  },
  "language_info": {
   "codemirror_mode": {
    "name": "ipython",
    "version": 3
   },
   "file_extension": ".py",
   "mimetype": "text/x-python",
   "name": "python",
   "nbconvert_exporter": "python",
   "pygments_lexer": "ipython3",
   "version": "3.12.3"
  }
 },
 "nbformat": 4,
 "nbformat_minor": 5
}
